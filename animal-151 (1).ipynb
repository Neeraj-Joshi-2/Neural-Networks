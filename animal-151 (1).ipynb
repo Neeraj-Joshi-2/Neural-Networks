{
 "cells": [
  {
   "cell_type": "markdown",
   "metadata": {
    "_cell_guid": "b1076dfc-b9ad-4769-8c92-a6c4dae69d19",
    "_uuid": "8f2839f25d086af736a60e9eeb907d3b93b6e0e5",
    "collapsed": true,
    "execution": {
     "iopub.execute_input": "2022-04-05T20:21:00.830848Z",
     "iopub.status.busy": "2022-04-05T20:21:00.830450Z",
     "iopub.status.idle": "2022-04-05T20:21:03.382561Z",
     "shell.execute_reply": "2022-04-05T20:21:03.381883Z",
     "shell.execute_reply.started": "2022-04-05T20:21:00.830759Z"
    },
    "jupyter": {
     "outputs_hidden": true
    }
   },
   "source": [
    "# Neeraj Joshi\n",
    "# Experiment - Implementation of Transfer Learning"
   ]
  },
  {
   "cell_type": "code",
   "execution_count": 1,
   "metadata": {
    "execution": {
     "iopub.execute_input": "2022-04-05T20:21:27.949874Z",
     "iopub.status.busy": "2022-04-05T20:21:27.949609Z",
     "iopub.status.idle": "2022-04-05T20:21:29.450047Z",
     "shell.execute_reply": "2022-04-05T20:21:29.449329Z",
     "shell.execute_reply.started": "2022-04-05T20:21:27.949844Z"
    }
   },
   "outputs": [],
   "source": [
    "import numpy as np\n",
    "import matplotlib.pyplot as plt\n",
    "from torchvision import transforms\n",
    "from torchvision import models\n",
    "import torch\n",
    "from torch.autograd import Variable\n",
    "import torch.nn as nn\n",
    "import torch.nn.functional as F\n",
    "from torch.optim import lr_scheduler\n",
    "from torch import optim\n",
    "from torchvision.datasets import ImageFolder\n",
    "from torchvision.utils import make_grid\n",
    "from torch.utils.data import Dataset,DataLoader\n",
    "import time"
   ]
  },
  {
   "cell_type": "code",
   "execution_count": 3,
   "metadata": {
    "execution": {
     "iopub.execute_input": "2022-04-05T20:21:34.009848Z",
     "iopub.status.busy": "2022-04-05T20:21:34.009398Z",
     "iopub.status.idle": "2022-04-05T20:21:34.050642Z",
     "shell.execute_reply": "2022-04-05T20:21:34.049928Z",
     "shell.execute_reply.started": "2022-04-05T20:21:34.009804Z"
    }
   },
   "outputs": [],
   "source": [
    "is_cuda = False\n",
    "if torch.cuda.is_available():\n",
    "    is_cuda = True"
   ]
  },
  {
   "cell_type": "code",
   "execution_count": 4,
   "metadata": {
    "execution": {
     "iopub.execute_input": "2022-04-05T20:21:34.312108Z",
     "iopub.status.busy": "2022-04-05T20:21:34.311429Z",
     "iopub.status.idle": "2022-04-05T20:21:34.316328Z",
     "shell.execute_reply": "2022-04-05T20:21:34.315373Z",
     "shell.execute_reply.started": "2022-04-05T20:21:34.312071Z"
    }
   },
   "outputs": [],
   "source": [
    "def show(inp) :\n",
    "    inp = inp.numpy().transpose((1,2,0))\n",
    "    plt.imshow(inp)"
   ]
  },
  {
   "cell_type": "code",
   "execution_count": 6,
   "metadata": {
    "execution": {
     "iopub.execute_input": "2022-04-05T20:21:34.758915Z",
     "iopub.status.busy": "2022-04-05T20:21:34.758613Z",
     "iopub.status.idle": "2022-04-05T20:21:34.762629Z",
     "shell.execute_reply": "2022-04-05T20:21:34.761931Z",
     "shell.execute_reply.started": "2022-04-05T20:21:34.758886Z"
    }
   },
   "outputs": [],
   "source": [
    "transform = transforms.Compose([transforms.Resize((224,224)),\n",
    "                               transforms.ToTensor()\n",
    "])"
   ]
  },
  {
   "cell_type": "code",
   "execution_count": 7,
   "metadata": {
    "execution": {
     "iopub.execute_input": "2022-04-05T20:21:34.906738Z",
     "iopub.status.busy": "2022-04-05T20:21:34.906145Z",
     "iopub.status.idle": "2022-04-05T20:21:35.091679Z",
     "shell.execute_reply": "2022-04-05T20:21:35.091060Z",
     "shell.execute_reply.started": "2022-04-05T20:21:34.906707Z"
    }
   },
   "outputs": [],
   "source": [
    "train = ImageFolder('/kaggle/input/animals141/dataset/dataset',transform)"
   ]
  },
  {
   "cell_type": "code",
   "execution_count": 8,
   "metadata": {
    "execution": {
     "iopub.execute_input": "2022-04-05T20:21:35.105378Z",
     "iopub.status.busy": "2022-04-05T20:21:35.104966Z",
     "iopub.status.idle": "2022-04-05T20:21:35.112799Z",
     "shell.execute_reply": "2022-04-05T20:21:35.111964Z",
     "shell.execute_reply.started": "2022-04-05T20:21:35.105348Z"
    }
   },
   "outputs": [],
   "source": [
    "train_data_loader = torch.utils.data.DataLoader(train,batch_size=32,num_workers=3,shuffle=True)"
   ]
  },
  {
   "cell_type": "code",
   "execution_count": 9,
   "metadata": {
    "execution": {
     "iopub.execute_input": "2022-04-05T20:21:35.320638Z",
     "iopub.status.busy": "2022-04-05T20:21:35.320221Z",
     "iopub.status.idle": "2022-04-05T20:21:35.396290Z",
     "shell.execute_reply": "2022-04-05T20:21:35.395595Z",
     "shell.execute_reply.started": "2022-04-05T20:21:35.320608Z"
    }
   },
   "outputs": [],
   "source": [
    "train[0]"
   ]
  },
  {
   "cell_type": "code",
   "execution_count": 10,
   "metadata": {
    "execution": {
     "iopub.execute_input": "2022-04-05T20:21:35.504876Z",
     "iopub.status.busy": "2022-04-05T20:21:35.504578Z",
     "iopub.status.idle": "2022-04-05T20:21:35.513143Z",
     "shell.execute_reply": "2022-04-05T20:21:35.512323Z",
     "shell.execute_reply.started": "2022-04-05T20:21:35.504846Z"
    }
   },
   "outputs": [],
   "source": [
    "train.classes"
   ]
  },
  {
   "cell_type": "code",
   "execution_count": 11,
   "metadata": {
    "execution": {
     "iopub.execute_input": "2022-04-05T20:21:35.759757Z",
     "iopub.status.busy": "2022-04-05T20:21:35.759302Z",
     "iopub.status.idle": "2022-04-05T20:21:35.764567Z",
     "shell.execute_reply": "2022-04-05T20:21:35.763673Z",
     "shell.execute_reply.started": "2022-04-05T20:21:35.759723Z"
    }
   },
   "outputs": [],
   "source": [
    "print(train.class_to_idx)"
   ]
  },
  {
   "cell_type": "code",
   "execution_count": 12,
   "metadata": {
    "execution": {
     "iopub.execute_input": "2022-04-05T20:21:36.549531Z",
     "iopub.status.busy": "2022-04-05T20:21:36.548968Z",
     "iopub.status.idle": "2022-04-05T20:21:36.780524Z",
     "shell.execute_reply": "2022-04-05T20:21:36.779876Z",
     "shell.execute_reply.started": "2022-04-05T20:21:36.549494Z"
    }
   },
   "outputs": [],
   "source": [
    "show(train[50][0])"
   ]
  },
  {
   "cell_type": "code",
   "execution_count": 14,
   "metadata": {
    "execution": {
     "iopub.execute_input": "2022-04-05T20:21:37.570280Z",
     "iopub.status.busy": "2022-04-05T20:21:37.569794Z",
     "iopub.status.idle": "2022-04-05T20:22:00.499354Z",
     "shell.execute_reply": "2022-04-05T20:22:00.498599Z",
     "shell.execute_reply.started": "2022-04-05T20:21:37.570244Z"
    }
   },
   "outputs": [],
   "source": [
    "vgg = models.vgg16(pretrained = True)\n",
    "vgg = vgg.cuda()"
   ]
  },
  {
   "cell_type": "code",
   "execution_count": 15,
   "metadata": {
    "execution": {
     "iopub.execute_input": "2022-04-05T20:22:00.501153Z",
     "iopub.status.busy": "2022-04-05T20:22:00.500884Z",
     "iopub.status.idle": "2022-04-05T20:22:00.510254Z",
     "shell.execute_reply": "2022-04-05T20:22:00.509539Z",
     "shell.execute_reply.started": "2022-04-05T20:22:00.501116Z"
    }
   },
   "outputs": [],
   "source": [
    "vgg"
   ]
  },
  {
   "cell_type": "code",
   "execution_count": 16,
   "metadata": {
    "execution": {
     "iopub.execute_input": "2022-04-05T20:22:00.512081Z",
     "iopub.status.busy": "2022-04-05T20:22:00.511393Z",
     "iopub.status.idle": "2022-04-05T20:22:00.517284Z",
     "shell.execute_reply": "2022-04-05T20:22:00.516459Z",
     "shell.execute_reply.started": "2022-04-05T20:22:00.512013Z"
    }
   },
   "outputs": [],
   "source": [
    "vgg.classifier[6].out_features = 151\n",
    "for param in vgg.features.parameters(): \n",
    "    param.requires_grad = False"
   ]
  },
  {
   "cell_type": "code",
   "execution_count": 17,
   "metadata": {
    "execution": {
     "iopub.execute_input": "2022-04-05T20:22:00.519746Z",
     "iopub.status.busy": "2022-04-05T20:22:00.519239Z",
     "iopub.status.idle": "2022-04-05T20:22:00.526326Z",
     "shell.execute_reply": "2022-04-05T20:22:00.525653Z",
     "shell.execute_reply.started": "2022-04-05T20:22:00.519699Z"
    }
   },
   "outputs": [],
   "source": [
    "optimizer = optim.SGD(vgg.classifier.parameters(),lr=0.01)"
   ]
  },
  {
   "cell_type": "code",
   "execution_count": 18,
   "metadata": {
    "execution": {
     "iopub.execute_input": "2022-04-05T20:22:00.528512Z",
     "iopub.status.busy": "2022-04-05T20:22:00.527742Z",
     "iopub.status.idle": "2022-04-05T20:22:00.539239Z",
     "shell.execute_reply": "2022-04-05T20:22:00.538463Z",
     "shell.execute_reply.started": "2022-04-05T20:22:00.528475Z"
    }
   },
   "outputs": [],
   "source": [
    "def fit(epoch,model,data_loader,phase='training',volatile=False):\n",
    "    if phase == 'training':\n",
    "        model.train()\n",
    "    if phase == 'validation':\n",
    "        model.eval()\n",
    "        volatile=True\n",
    "    running_loss = 0.0\n",
    "    running_correct = 0\n",
    "    for batch_idx , (data,target) in enumerate(data_loader):\n",
    "        if is_cuda:\n",
    "            data,target = data.cuda(),target.cuda()\n",
    "        data , target = Variable(data,volatile),Variable(target)\n",
    "        if phase == 'training':\n",
    "            optimizer.zero_grad\n",
    "        output = model(data)\n",
    "        loss = F.cross_entropy(output,target)\n",
    "        \n",
    "        running_loss += F.cross_entropy(output,target,size_average=False).item()\n",
    "        preds = output.data.max(dim=1,keepdim=True)[1]\n",
    "        running_correct += preds.eq(target.data.view_as(preds)).cpu().sum()\n",
    "        if phase == 'training':\n",
    "            loss.backward()\n",
    "            optimizer.step()\n",
    "    \n",
    "    loss = running_loss/len(data_loader.dataset)\n",
    "    accuracy = 100. * running_correct/len(data_loader.dataset)\n",
    "    \n",
    "    print(f'{phase} loss is {loss:{5}.{2}} and {phase} accuracy is {running_correct}/{len(data_loader.dataset)}{accuracy:{10}.{4}}')\n",
    "    return loss,accuracy"
   ]
  },
  {
   "cell_type": "code",
   "execution_count": 19,
   "metadata": {
    "execution": {
     "iopub.execute_input": "2022-04-05T20:22:00.540472Z",
     "iopub.status.busy": "2022-04-05T20:22:00.540199Z",
     "iopub.status.idle": "2022-04-05T20:26:29.305429Z",
     "shell.execute_reply": "2022-04-05T20:26:29.304610Z",
     "shell.execute_reply.started": "2022-04-05T20:22:00.540436Z"
    }
   },
   "outputs": [],
   "source": [
    "train_losses , train_accuracy = [],[]\n",
    "val_losses , val_accuracy = [],[]\n",
    "for epoch in range(1,15):\n",
    "    epoch_loss, epoch_accuracy = fit(epoch,vgg,train_data_loader,phase='training')\n",
    "    train_losses.append(epoch_loss)\n",
    "    train_accuracy.append(epoch_accuracy)"
   ]
  }
 ],
 "metadata": {
  "kernelspec": {
   "display_name": "Python 3 (ipykernel)",
   "language": "python",
   "name": "python3"
  },
  "language_info": {
   "codemirror_mode": {
    "name": "ipython",
    "version": 3
   },
   "file_extension": ".py",
   "mimetype": "text/x-python",
   "name": "python",
   "nbconvert_exporter": "python",
   "pygments_lexer": "ipython3",
   "version": "3.7.6"
  }
 },
 "nbformat": 4,
 "nbformat_minor": 4
}

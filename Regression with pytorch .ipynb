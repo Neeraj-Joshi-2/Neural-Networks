{
 "cells": [
  {
   "cell_type": "code",
   "execution_count": 1,
   "metadata": {
    "id": "ZxfzVLDD8pOk"
   },
   "outputs": [],
   "source": [
    "import torch\n",
    "import sklearn"
   ]
  },
  {
   "cell_type": "code",
   "execution_count": 2,
   "metadata": {
    "colab": {
     "base_uri": "https://localhost:8080/"
    },
    "id": "Ychf-Ig284wF",
    "outputId": "1ec8f374-1997-442e-e70d-266b5eb2d802"
   },
   "outputs": [
    {
     "data": {
      "text/plain": [
       "<torch._C.Generator at 0x7fdebaee2ad0>"
      ]
     },
     "execution_count": 2,
     "metadata": {},
     "output_type": "execute_result"
    }
   ],
   "source": [
    "from sklearn.datasets import make_classification\n",
    "torch.manual_seed(123)"
   ]
  },
  {
   "cell_type": "code",
   "execution_count": 3,
   "metadata": {
    "id": "1LxdPxns9Ax3"
   },
   "outputs": [],
   "source": [
    "## Make a Toy Dataset\n",
    "X,y=make_classification(n_samples=1000,n_features=4 ,n_classes=2)\n",
    "\n",
    "### Change it into the Tensor\n",
    "X=torch.tensor(X,dtype=torch.float32)\n",
    "y=torch.tensor(y,dtype=torch.float32)\n",
    "\n",
    "\n",
    "\n"
   ]
  },
  {
   "cell_type": "code",
   "execution_count": 4,
   "metadata": {
    "colab": {
     "base_uri": "https://localhost:8080/"
    },
    "id": "iW3ACthE9UHy",
    "outputId": "af8ccf83-8596-4fa0-e791-345da314a69c"
   },
   "outputs": [
    {
     "data": {
      "text/plain": [
       "tensor([937, 859, 548, 487, 148, 190, 199, 632,  33, 714])"
      ]
     },
     "execution_count": 4,
     "metadata": {},
     "output_type": "execute_result"
    }
   ],
   "source": [
    "### Data Suffling\n",
    "torch.manual_seed(10)\n",
    "suffle_idx=torch.randperm(y.size(0),dtype=torch.long)\n",
    "X,y=X[suffle_idx],y[suffle_idx]\n",
    "suffle_idx[:10]"
   ]
  },
  {
   "cell_type": "code",
   "execution_count": 5,
   "metadata": {
    "id": "htyqar_O_gQS"
   },
   "outputs": [],
   "source": [
    "#### Train Test split\n",
    "train_size=int(suffle_idx.size(0)*0.7)\n",
    "train_idx= suffle_idx[:train_size]\n",
    "test_idx=suffle_idx[train_size:]\n",
    "X_train,y_train=X[train_idx],y[train_idx]\n",
    "X_test,y_test=X[test_idx],y[test_idx]"
   ]
  },
  {
   "cell_type": "code",
   "execution_count": 9,
   "metadata": {
    "colab": {
     "base_uri": "https://localhost:8080/"
    },
    "id": "y612znKOZBe1",
    "outputId": "3c408502-c0bd-4621-efcb-8e5ba42decac"
   },
   "outputs": [
    {
     "data": {
      "text/plain": [
       "torch.Size([700, 4])"
      ]
     },
     "execution_count": 9,
     "metadata": {},
     "output_type": "execute_result"
    }
   ],
   "source": [
    "X_train.shape"
   ]
  },
  {
   "cell_type": "code",
   "execution_count": 10,
   "metadata": {
    "colab": {
     "base_uri": "https://localhost:8080/"
    },
    "id": "qph9HFKGZE5I",
    "outputId": "497b7fdf-c664-478d-a331-e0db0604a4ab"
   },
   "outputs": [
    {
     "data": {
      "text/plain": [
       "torch.Size([300, 4])"
      ]
     },
     "execution_count": 10,
     "metadata": {},
     "output_type": "execute_result"
    }
   ],
   "source": [
    "X_test.shape"
   ]
  },
  {
   "cell_type": "code",
   "execution_count": 11,
   "metadata": {
    "id": "b6lDzsNjAD6Q"
   },
   "outputs": [],
   "source": [
    "#### Normalize\n",
    "\n",
    "mean,std_dev=X_train.mean(dim=0) ,X_train.std(dim=0)\n",
    "X_train=(X_train-mean)/std_dev\n",
    "X_test=(X_test-mean)/std_dev"
   ]
  },
  {
   "cell_type": "code",
   "execution_count": 12,
   "metadata": {
    "id": "QDGeHX1VDcDG"
   },
   "outputs": [],
   "source": [
    "import torch.nn as nn\n",
    "from torch.autograd import grad"
   ]
  },
  {
   "cell_type": "code",
   "execution_count": 13,
   "metadata": {
    "id": "S5gFo5e-Dkon"
   },
   "outputs": [],
   "source": [
    "class NN():\n",
    "  def __init__(self,n_features):\n",
    "    self.n_features=n_features\n",
    "    self.weight=torch.zeros(size=(n_features,1),dtype=torch.float,requires_grad=True)\n",
    "    self.bias=torch.zeros(1,dtype=torch.float,requires_grad=True)\n",
    "  \n",
    "\n",
    "  def forward(self,x):\n",
    "    output=torch.add(torch.mm(x,self.weight),self.bias)\n",
    "    return output.view(-1)\n",
    "\n",
    "def loss_fn(yhat,y):\n",
    "  return torch.mean((yhat-y)**2)\n"
   ]
  },
  {
   "cell_type": "code",
   "execution_count": 8,
   "metadata": {
    "id": "W4VG658oG6Sk"
   },
   "outputs": [],
   "source": [
    "def train(model,x,y,n_epoch=10,lr=0.001,seed=23,bsz=50):\n",
    "\n",
    "  cost=[]\n",
    "  torch.manual_seed(seed)\n",
    "  for i in range(n_epoch):\n",
    "    suffle_idx=torch.randperm(y.size(0))\n",
    "    batches=torch.split(suffle_idx,bsz)\n",
    "\n",
    "    for idx in batches:\n",
    "\n",
    "      ###1. Compute the output\n",
    "      yhat=model.forward(x[idx])\n",
    "\n",
    "      ###2. Compute the Error\n",
    "      loss=loss_fn(yhat,y[idx])\n",
    "\n",
    "      ###3. Compute the gradient\n",
    "      grad_w=grad(loss,model.weight,retain_graph=True)[0]\n",
    "      grad_b=grad(loss,model.bias)[0]\n",
    "\n",
    "      ###4. Update Model Parameters\n",
    "      model.weight=model.weight-lr*grad_w\n",
    "      model.bias=model.bias-lr*grad_b\n",
    "\n",
    "    ###5. Log and print the loss\n",
    "    with torch.no_grad():\n",
    "      yhat=model.forward(x)\n",
    "      curr_loss=loss_fn(yhat,y)\n",
    "      print('Epoc: %3d ' % (i+1),end=\"\")\n",
    "      print('| MSE % .5f' % curr_loss)\n",
    "      cost.append(curr_loss)\n",
    "      \n",
    "  return cost\n",
    "\n",
    "\n"
   ]
  },
  {
   "cell_type": "code",
   "execution_count": 14,
   "metadata": {
    "colab": {
     "base_uri": "https://localhost:8080/"
    },
    "id": "pg5M3m31Fo39",
    "outputId": "f6ad66a7-e202-4324-823c-a7cb9e96aa91"
   },
   "outputs": [
    {
     "name": "stdout",
     "output_type": "stream",
     "text": [
      "Epoc:   1 | MSE  0.48255\n",
      "Epoc:   2 | MSE  0.45399\n",
      "Epoc:   3 | MSE  0.42822\n",
      "Epoc:   4 | MSE  0.40491\n",
      "Epoc:   5 | MSE  0.38373\n",
      "Epoc:   6 | MSE  0.36445\n",
      "Epoc:   7 | MSE  0.34684\n",
      "Epoc:   8 | MSE  0.33072\n",
      "Epoc:   9 | MSE  0.31592\n",
      "Epoc:  10 | MSE  0.30230\n",
      "Epoc:  11 | MSE  0.28973\n",
      "Epoc:  12 | MSE  0.27809\n",
      "Epoc:  13 | MSE  0.26732\n",
      "Epoc:  14 | MSE  0.25733\n",
      "Epoc:  15 | MSE  0.24803\n",
      "Epoc:  16 | MSE  0.23937\n",
      "Epoc:  17 | MSE  0.23128\n",
      "Epoc:  18 | MSE  0.22373\n",
      "Epoc:  19 | MSE  0.21667\n",
      "Epoc:  20 | MSE  0.21006\n",
      "Epoc:  21 | MSE  0.20386\n",
      "Epoc:  22 | MSE  0.19805\n",
      "Epoc:  23 | MSE  0.19259\n",
      "Epoc:  24 | MSE  0.18745\n",
      "Epoc:  25 | MSE  0.18263\n",
      "Epoc:  26 | MSE  0.17809\n",
      "Epoc:  27 | MSE  0.17381\n",
      "Epoc:  28 | MSE  0.16978\n",
      "Epoc:  29 | MSE  0.16599\n",
      "Epoc:  30 | MSE  0.16241\n",
      "Epoc:  31 | MSE  0.15904\n",
      "Epoc:  32 | MSE  0.15585\n",
      "Epoc:  33 | MSE  0.15284\n",
      "Epoc:  34 | MSE  0.15000\n",
      "Epoc:  35 | MSE  0.14733\n",
      "Epoc:  36 | MSE  0.14480\n",
      "Epoc:  37 | MSE  0.14241\n",
      "Epoc:  38 | MSE  0.14015\n",
      "Epoc:  39 | MSE  0.13802\n",
      "Epoc:  40 | MSE  0.13600\n",
      "Epoc:  41 | MSE  0.13410\n",
      "Epoc:  42 | MSE  0.13230\n",
      "Epoc:  43 | MSE  0.13060\n",
      "Epoc:  44 | MSE  0.12899\n",
      "Epoc:  45 | MSE  0.12746\n",
      "Epoc:  46 | MSE  0.12602\n",
      "Epoc:  47 | MSE  0.12466\n",
      "Epoc:  48 | MSE  0.12338\n",
      "Epoc:  49 | MSE  0.12216\n",
      "Epoc:  50 | MSE  0.12101\n"
     ]
    }
   ],
   "source": [
    "model=NN(X_train.size(1))\n",
    "cost=train(model,X_train,y_train,n_epoch=50)"
   ]
  },
  {
   "cell_type": "code",
   "execution_count": 15,
   "metadata": {
    "colab": {
     "base_uri": "https://localhost:8080/",
     "height": 283
    },
    "id": "AUiMMWXeX2X6",
    "outputId": "68c76e5d-9a89-45fa-cf8a-d16de2814ef5"
   },
   "outputs": [
    {
     "data": {
      "image/png": "[encoded data removed]",
      "text/plain": [
       "<Figure size 432x288 with 1 Axes>"
      ]
     },
     "metadata": {
      "needs_background": "light"
     },
     "output_type": "display_data"
    }
   ],
   "source": [
    "import matplotlib.pyplot as plt\n",
    "plt.plot(range(len(cost)),cost)\n",
    "plt.ylabel('Mean Sqare Error')\n",
    "plt.xlabel('Epoc')\n",
    "plt.show()"
   ]
  },
  {
   "cell_type": "code",
   "execution_count": 16,
   "metadata": {
    "colab": {
     "base_uri": "https://localhost:8080/"
    },
    "id": "noMdRIQnY2yD",
    "outputId": "f14c62aa-bc01-4100-e8ec-989d84e237df"
   },
   "outputs": [
    {
     "name": "stdout",
     "output_type": "stream",
     "text": [
      "Training Accuracy: 85.00\n",
      "Testing Accuracy: 84.00\n"
     ]
    }
   ],
   "source": [
    "ones=torch.ones(y_train.size())\n",
    "zero=torch.zeros(y_train.size())\n",
    "train_pred=model.forward(X_train)\n",
    "train_acc=torch.mean((  \n",
    "    torch.where(train_pred > 0.5,\n",
    "                ones,zero).int()==y_train).float())\n",
    "\n",
    "\n",
    "ones=torch.ones(y_test.size())\n",
    "zeros=torch.zeros(y_test.size())\n",
    "test_pred=model.forward(X_test)\n",
    "test_acc=torch.mean((torch.where(test_pred> 0.5,ones,zeros).int()==y_test).float())\n",
    "\n",
    "print('Training Accuracy: %.2f' % (train_acc*100))\n",
    "print('Testing Accuracy: %.2f' % (test_acc*100))\n"
   ]
  },
  {
   "cell_type": "markdown",
   "metadata": {
    "id": "0jE4vxUqhE9S"
   },
   "source": [
    "### Model Using Pytorch"
   ]
  },
  {
   "cell_type": "code",
   "execution_count": 27,
   "metadata": {
    "id": "y3lKWHDh3Z2E"
   },
   "outputs": [],
   "source": [
    "import torch\n",
    "import sklearn\n",
    "import torch.nn.functional as F"
   ]
  },
  {
   "cell_type": "code",
   "execution_count": 18,
   "metadata": {
    "id": "mIvsPBpi3exX"
   },
   "outputs": [],
   "source": [
    "from sklearn.datasets import make_classification\n",
    "from sklearn.model_selection import train_test_split\n",
    "from sklearn.preprocessing import StandardScaler"
   ]
  },
  {
   "cell_type": "code",
   "execution_count": 19,
   "metadata": {
    "id": "1JIHbj2035fP"
   },
   "outputs": [],
   "source": [
    "### Create The dataset\n",
    "X,y=make_classification(n_samples=1000,n_classes=2,n_features=4)\n",
    "\n",
    "### Normalize the Data\n",
    "scaler=StandardScaler()\n",
    "X=scaler.fit_transform(X)\n",
    "\n",
    "### Array to Tensor\n",
    "X=torch.tensor(X,dtype=torch.float32)\n",
    "y=torch.tensor(y,dtype=torch.float32)"
   ]
  },
  {
   "cell_type": "code",
   "execution_count": null,
   "metadata": {
    "id": "CqWr2Ybd5ugi"
   },
   "outputs": [],
   "source": []
  },
  {
   "cell_type": "code",
   "execution_count": 20,
   "metadata": {
    "colab": {
     "base_uri": "https://localhost:8080/"
    },
    "id": "vOTlEa224ok7",
    "outputId": "11b147ee-c3d0-4636-93e2-c63d54319a13"
   },
   "outputs": [
    {
     "name": "stdout",
     "output_type": "stream",
     "text": [
      "torch.Size([700, 4])\n",
      "torch.Size([300, 4])\n"
     ]
    }
   ],
   "source": [
    "X_train,X_test,y_train,y_test=train_test_split(X,y,test_size=.3,random_state=21)\n",
    "print(X_train.shape)\n",
    "print(X_test.shape)"
   ]
  },
  {
   "cell_type": "code",
   "execution_count": null,
   "metadata": {
    "id": "vpJjGYOI6Qk7"
   },
   "outputs": [],
   "source": []
  },
  {
   "cell_type": "code",
   "execution_count": 21,
   "metadata": {
    "id": "DNSgj7UkhIIK"
   },
   "outputs": [],
   "source": [
    "class NNpt(nn.Module):\n",
    "  def __init__(self,n_features):\n",
    "    super(NNpt,self).__init__()\n",
    "    self.linear=nn.Linear(n_features,1)\n",
    "\n",
    "    self.linear.weight.detach().zero_()\n",
    "    self.linear.bias.detach().zero_()\n",
    "\n",
    "\n",
    "  def forward(self,x):\n",
    "    out=self.linear(x)\n",
    "    return out.view(-1)\n",
    "\n",
    "\n",
    "\n",
    "    "
   ]
  },
  {
   "cell_type": "code",
   "execution_count": 22,
   "metadata": {
    "id": "HQNqqR33nsLH"
   },
   "outputs": [],
   "source": [
    "def train(model,x,y,n_epoch=10,lr=0.001,seed=23,bsz=50):\n",
    "\n",
    "  cost=[]\n",
    "  torch.manual_seed(seed)\n",
    "   ### Optimizer\n",
    "  optimizer=torch.optim.SGD(model.parameters(),lr=lr)\n",
    "  for i in range(n_epoch):\n",
    "    suffle_idx=torch.randperm(y.size(0))\n",
    "    batches=torch.split(suffle_idx,bsz)\n",
    "\n",
    "    for idx in batches:\n",
    "      ###1. Compute the Output\n",
    "      yhat=model.forward(x[idx])\n",
    "\n",
    "      ###2. Compute the Loss\n",
    "      loss=torch.nn.functional.mse_loss(yhat,y[idx])\n",
    "\n",
    "      ###3. Compute the Gradients\n",
    "      optimizer.zero_grad()\n",
    "      loss.backward()\n",
    "\n",
    "      ###4. Update the Model Parameters\n",
    "      optimizer.step()\n",
    "\n",
    "      #model.weight=model.weight-lr*grad_w\n",
    "      #model.bias=model.bias-lr*grad_b\n",
    "\n",
    "    ###5. Log and print the Loss\n",
    "    with torch.no_grad():\n",
    "      yhat=model.forward(x)\n",
    "      curr_loss=loss_fn(yhat,y)\n",
    "      print('Epoc: %3d ' % (i+1),end=\"\")\n",
    "      print('| MSE % .5f' % curr_loss)\n",
    "      cost.append(curr_loss)\n",
    "      \n",
    "  return cost"
   ]
  },
  {
   "cell_type": "code",
   "execution_count": 23,
   "metadata": {
    "id": "sPFjue7WlmW-"
   },
   "outputs": [],
   "source": [
    "n_feature=X_train.size(1)\n",
    "model=NNpt(n_features=n_feature)\n"
   ]
  },
  {
   "cell_type": "code",
   "execution_count": 24,
   "metadata": {
    "colab": {
     "base_uri": "https://localhost:8080/"
    },
    "id": "li9AFeIanQZS",
    "outputId": "7c05f8aa-1dff-4596-8114-baad1ca7a4c3"
   },
   "outputs": [
    {
     "name": "stdout",
     "output_type": "stream",
     "text": [
      "Epoc:   1 | MSE  0.49435\n",
      "Epoc:   2 | MSE  0.47153\n",
      "Epoc:   3 | MSE  0.45005\n",
      "Epoc:   4 | MSE  0.42983\n",
      "Epoc:   5 | MSE  0.41079\n",
      "Epoc:   6 | MSE  0.39286\n",
      "Epoc:   7 | MSE  0.37598\n",
      "Epoc:   8 | MSE  0.36008\n",
      "Epoc:   9 | MSE  0.34511\n",
      "Epoc:  10 | MSE  0.33101\n",
      "Epoc:  11 | MSE  0.31772\n",
      "Epoc:  12 | MSE  0.30520\n",
      "Epoc:  13 | MSE  0.29342\n",
      "Epoc:  14 | MSE  0.28232\n",
      "Epoc:  15 | MSE  0.27186\n",
      "Epoc:  16 | MSE  0.26201\n",
      "Epoc:  17 | MSE  0.25274\n",
      "Epoc:  18 | MSE  0.24400\n",
      "Epoc:  19 | MSE  0.23576\n",
      "Epoc:  20 | MSE  0.22801\n",
      "Epoc:  21 | MSE  0.22070\n",
      "Epoc:  22 | MSE  0.21382\n",
      "Epoc:  23 | MSE  0.20733\n",
      "Epoc:  24 | MSE  0.20123\n",
      "Epoc:  25 | MSE  0.19547\n",
      "Epoc:  26 | MSE  0.19004\n",
      "Epoc:  27 | MSE  0.18493\n",
      "Epoc:  28 | MSE  0.18012\n",
      "Epoc:  29 | MSE  0.17558\n",
      "Epoc:  30 | MSE  0.17131\n",
      "Epoc:  31 | MSE  0.16728\n",
      "Epoc:  32 | MSE  0.16348\n",
      "Epoc:  33 | MSE  0.15990\n",
      "Epoc:  34 | MSE  0.15653\n",
      "Epoc:  35 | MSE  0.15336\n",
      "Epoc:  36 | MSE  0.15037\n",
      "Epoc:  37 | MSE  0.14755\n",
      "Epoc:  38 | MSE  0.14489\n",
      "Epoc:  39 | MSE  0.14238\n",
      "Epoc:  40 | MSE  0.14002\n",
      "Epoc:  41 | MSE  0.13780\n",
      "Epoc:  42 | MSE  0.13571\n",
      "Epoc:  43 | MSE  0.13373\n",
      "Epoc:  44 | MSE  0.13187\n",
      "Epoc:  45 | MSE  0.13012\n",
      "Epoc:  46 | MSE  0.12847\n",
      "Epoc:  47 | MSE  0.12691\n",
      "Epoc:  48 | MSE  0.12544\n",
      "Epoc:  49 | MSE  0.12406\n",
      "Epoc:  50 | MSE  0.12275\n"
     ]
    }
   ],
   "source": [
    "cost=train(model,X_train,y_train,n_epoch=50)"
   ]
  },
  {
   "cell_type": "code",
   "execution_count": 25,
   "metadata": {
    "colab": {
     "base_uri": "https://localhost:8080/",
     "height": 296
    },
    "id": "U7FElcjK6m8I",
    "outputId": "6592dab1-02f2-46c8-c40b-9ec2af79dae1"
   },
   "outputs": [
    {
     "data": {
      "text/plain": [
       "[]"
      ]
     },
     "execution_count": 25,
     "metadata": {},
     "output_type": "execute_result"
    },
    {
     "data": {
      "image/png": "[encoded data removed]",
      "text/plain": [
       "<Figure size 432x288 with 1 Axes>"
      ]
     },
     "metadata": {
      "needs_background": "light"
     },
     "output_type": "display_data"
    }
   ],
   "source": [
    "plt.plot(range(len(cost)),cost)\n",
    "plt.xlabel('No of Epochs')\n",
    "plt.ylabel('Mean Squared Error')\n",
    "plt.plot()"
   ]
  },
  {
   "cell_type": "code",
   "execution_count": 26,
   "metadata": {
    "colab": {
     "base_uri": "https://localhost:8080/"
    },
    "id": "gb4XmG8W7UjJ",
    "outputId": "fc61b2d6-39fb-4e89-e33e-581b44ec2d8f"
   },
   "outputs": [
    {
     "name": "stdout",
     "output_type": "stream",
     "text": [
      "Training Accuracy : 0.90\n",
      "Testing Accuracy: 0.92\n"
     ]
    }
   ],
   "source": [
    "ones=torch.ones(y_train.size(0))\n",
    "zero=torch.zeros(y_train.size(0))\n",
    "train_pred=model.forward(X_train)\n",
    "\n",
    "train_acc=torch.mean((torch.where( train_pred >0.5 , ones,zero).int()==y_train).float())\n",
    "#print(train_acc)\n",
    "\n",
    "ones=torch.ones(y_test.size(0))\n",
    "zero=torch.zeros(y_test.size(0))\n",
    "test_pred=model.forward(X_test)\n",
    "\n",
    "test_acc=torch.mean((torch.where( test_pred >0.5 , ones,zero).int()==y_test).float())\n",
    "print('Training Accuracy : %.2f' % train_acc)\n",
    "print('Testing Accuracy: %.2f' % test_acc)"
   ]
  },
  {
   "cell_type": "markdown",
   "metadata": {
    "id": "Jw4-SmjGAwKw"
   },
   "source": [
    "### Logistic Regression"
   ]
  },
  {
   "cell_type": "code",
   "execution_count": 37,
   "metadata": {
    "id": "fOvf9DILA0Vt"
   },
   "outputs": [],
   "source": [
    "def train(model,x,y,n_epoch=10,lr=0.001,seed=23,bsz=50):\n",
    "\n",
    "  cost=[]\n",
    "  torch.manual_seed(seed)\n",
    "   ### Optimizer\n",
    "  optimizer=torch.optim.SGD(model.parameters(),lr=lr)\n",
    "  for i in range(n_epoch):\n",
    "    suffle_idx=torch.randperm(y.size(0))\n",
    "    batches=torch.split(suffle_idx,bsz)\n",
    "\n",
    "    for idx in batches:\n",
    "      ###1. Compute the Output\n",
    "      yhat=model.forward(x[idx])\n",
    "\n",
    "      ###2. Compute the Loss\n",
    "      loss=torch.nn.functional.binary_cross_entropy(torch.sigmoid(yhat),y[idx])\n",
    "\n",
    "      ###3. Compute the Gradients\n",
    "      optimizer.zero_grad()\n",
    "      loss.backward()\n",
    "\n",
    "      ###4. Update the Model Parameters\n",
    "      optimizer.step()\n",
    "\n",
    "      #model.weight=model.weight-lr*grad_w\n",
    "      #model.bias=model.bias-lr*grad_b\n",
    "\n",
    "    ###5. Log and print the Loss\n",
    "    with torch.no_grad():\n",
    "      yhat=model.forward(x)\n",
    "      curr_loss=loss_fn(yhat,y)\n",
    "      print('Epoc: %3d ' % (i+1),end=\"\")\n",
    "      print('| MSE % .5f' % curr_loss)\n",
    "      cost.append(curr_loss)\n",
    "      \n",
    "  return cost"
   ]
  },
  {
   "cell_type": "code",
   "execution_count": 45,
   "metadata": {
    "id": "PIUIMhifBawi"
   },
   "outputs": [],
   "source": [
    "n_feature=X_train.size(1)\n",
    "model=NNpt(n_features=n_feature)\n"
   ]
  },
  {
   "cell_type": "code",
   "execution_count": 46,
   "metadata": {
    "colab": {
     "base_uri": "https://localhost:8080/"
    },
    "id": "0C-2cXsdBdVJ",
    "outputId": "1cb469a2-87de-40fc-ed40-986682dbda32"
   },
   "outputs": [
    {
     "name": "stdout",
     "output_type": "stream",
     "text": [
      "Epoc:   1 | MSE  0.51359\n",
      "Epoc:   2 | MSE  0.50871\n",
      "Epoc:   3 | MSE  0.50391\n",
      "Epoc:   4 | MSE  0.49920\n",
      "Epoc:   5 | MSE  0.49458\n",
      "Epoc:   6 | MSE  0.49005\n",
      "Epoc:   7 | MSE  0.48560\n",
      "Epoc:   8 | MSE  0.48124\n",
      "Epoc:   9 | MSE  0.47697\n",
      "Epoc:  10 | MSE  0.47277\n",
      "Epoc:  11 | MSE  0.46867\n",
      "Epoc:  12 | MSE  0.46464\n",
      "Epoc:  13 | MSE  0.46069\n",
      "Epoc:  14 | MSE  0.45683\n",
      "Epoc:  15 | MSE  0.45304\n",
      "Epoc:  16 | MSE  0.44933\n",
      "Epoc:  17 | MSE  0.44571\n",
      "Epoc:  18 | MSE  0.44216\n",
      "Epoc:  19 | MSE  0.43868\n",
      "Epoc:  20 | MSE  0.43528\n",
      "Epoc:  21 | MSE  0.43196\n",
      "Epoc:  22 | MSE  0.42871\n",
      "Epoc:  23 | MSE  0.42553\n",
      "Epoc:  24 | MSE  0.42243\n",
      "Epoc:  25 | MSE  0.41939\n",
      "Epoc:  26 | MSE  0.41643\n",
      "Epoc:  27 | MSE  0.41354\n",
      "Epoc:  28 | MSE  0.41072\n",
      "Epoc:  29 | MSE  0.40797\n",
      "Epoc:  30 | MSE  0.40528\n",
      "Epoc:  31 | MSE  0.40266\n",
      "Epoc:  32 | MSE  0.40011\n",
      "Epoc:  33 | MSE  0.39763\n",
      "Epoc:  34 | MSE  0.39521\n",
      "Epoc:  35 | MSE  0.39286\n",
      "Epoc:  36 | MSE  0.39057\n",
      "Epoc:  37 | MSE  0.38834\n",
      "Epoc:  38 | MSE  0.38618\n",
      "Epoc:  39 | MSE  0.38407\n",
      "Epoc:  40 | MSE  0.38203\n",
      "Epoc:  41 | MSE  0.38005\n",
      "Epoc:  42 | MSE  0.37814\n",
      "Epoc:  43 | MSE  0.37628\n",
      "Epoc:  44 | MSE  0.37447\n",
      "Epoc:  45 | MSE  0.37273\n",
      "Epoc:  46 | MSE  0.37105\n",
      "Epoc:  47 | MSE  0.36942\n",
      "Epoc:  48 | MSE  0.36785\n",
      "Epoc:  49 | MSE  0.36633\n",
      "Epoc:  50 | MSE  0.36487\n"
     ]
    }
   ],
   "source": [
    "cost=train(model,X_train,y_train,n_epoch=50)"
   ]
  },
  {
   "cell_type": "code",
   "execution_count": 47,
   "metadata": {
    "colab": {
     "base_uri": "https://localhost:8080/",
     "height": 299
    },
    "id": "Poh0lJYHBzdN",
    "outputId": "555ea510-ca3f-4bee-f2fe-0b351f1c4fc9"
   },
   "outputs": [
    {
     "data": {
      "text/plain": [
       "[]"
      ]
     },
     "execution_count": 47,
     "metadata": {},
     "output_type": "execute_result"
    },
    {
     "data": {
      "image/png": "[encoded data removed]",
      "text/plain": [
       "<Figure size 432x288 with 1 Axes>"
      ]
     },
     "metadata": {
      "needs_background": "light"
     },
     "output_type": "display_data"
    }
   ],
   "source": [
    "plt.plot(range(len(cost)),cost)\n",
    "plt.xlabel('No of Epochs')\n",
    "plt.ylabel('Mean Squared Error')\n",
    "plt.plot()"
   ]
  },
  {
   "cell_type": "code",
   "execution_count": 48,
   "metadata": {
    "colab": {
     "base_uri": "https://localhost:8080/"
    },
    "id": "AwaMm8VzCmgc",
    "outputId": "2a062e5d-c6a8-4a09-e16a-b969015c0d19"
   },
   "outputs": [
    {
     "name": "stdout",
     "output_type": "stream",
     "text": [
      "Training Accuracy : 0.51\n",
      "Testing Accuracy: 0.57\n"
     ]
    }
   ],
   "source": [
    "ones=torch.ones(y_train.size(0))\n",
    "zero=torch.zeros(y_train.size(0))\n",
    "train_pred=model.forward(X_train)\n",
    "\n",
    "train_acc=torch.mean((torch.where( train_pred >0.5 , ones,zero).int()==y_train).float())\n",
    "#print(train_acc)\n",
    "\n",
    "ones=torch.ones(y_test.size(0))\n",
    "zero=torch.zeros(y_test.size(0))\n",
    "test_pred=model.forward(X_test)\n",
    "\n",
    "test_acc=torch.mean((torch.where( test_pred >0.5 , ones,zero).int()==y_test).float())\n",
    "print('Training Accuracy : %.2f' % train_acc)\n",
    "print('Testing Accuracy: %.2f' % test_acc)"
   ]
  },
  {
   "cell_type": "code",
   "execution_count": null,
   "metadata": {
    "id": "A8RpExgxC_Ys"
   },
   "outputs": [],
   "source": []
  }
 ],
 "metadata": {
  "colab": {
   "name": "Check-1.ipynb",
   "provenance": []
  },
  "kernelspec": {
   "display_name": "Python 3 (ipykernel)",
   "language": "python",
   "name": "python3"
  },
  "language_info": {
   "codemirror_mode": {
    "name": "ipython",
    "version": 3
   },
   "file_extension": ".py",
   "mimetype": "text/x-python",
   "name": "python",
   "nbconvert_exporter": "python",
   "pygments_lexer": "ipython3",
   "version": "3.7.6"
  }
 },
 "nbformat": 4,
 "nbformat_minor": 1
}

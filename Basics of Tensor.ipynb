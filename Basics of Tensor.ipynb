{
 "cells": [
  {
   "cell_type": "markdown",
   "metadata": {
    "id": "OXYXAC-w9eqC"
   },
   "source": [
    "Basics of Tensor"
   ]
  },
  {
   "cell_type": "code",
   "execution_count": 2,
   "metadata": {
    "id": "wMG4jtuo9rjl"
   },
   "outputs": [],
   "source": [
    "import torch"
   ]
  },
  {
   "cell_type": "code",
   "execution_count": 3,
   "metadata": {
    "colab": {
     "base_uri": "https://localhost:8080/"
    },
    "executionInfo": {
     "elapsed": 440,
     "status": "ok",
     "timestamp": 1641968165584,
     "user": {
      "displayName": "Neeraj Joshi",
      "photoUrl": "https://lh3.googleusercontent.com/a-/AOh14Gj4mg3E02NReP-TLSoBthBtB0pl0ZRgvBYmVKGQsg=s64",
      "userId": "08836775123703418272"
     },
     "user_tz": -330
    },
    "id": "nnwq2aG97Swp",
    "outputId": "6857ef06-ac4c-446d-e06b-a40949086ba2"
   },
   "outputs": [
    {
     "data": {
      "text/plain": [
       "tensor([[0., 0., 0., 0.],\n",
       "        [0., 0., 0., 0.],\n",
       "        [0., 0., 0., 0.]])"
      ]
     },
     "execution_count": 3,
     "metadata": {},
     "output_type": "execute_result"
    }
   ],
   "source": [
    "torch.empty(size = (3,4))"
   ]
  },
  {
   "cell_type": "code",
   "execution_count": 3,
   "metadata": {
    "executionInfo": {
     "elapsed": 374,
     "status": "ok",
     "timestamp": 1641968224274,
     "user": {
      "displayName": "Neeraj Joshi",
      "photoUrl": "https://lh3.googleusercontent.com/a-/AOh14Gj4mg3E02NReP-TLSoBthBtB0pl0ZRgvBYmVKGQsg=s64",
      "userId": "08836775123703418272"
     },
     "user_tz": -330
    },
    "id": "lUR5ieRc7dtZ"
   },
   "outputs": [],
   "source": [
    "device = 'cuda' if torch.cuda.is_available() else 'cpu'"
   ]
  },
  {
   "cell_type": "code",
   "execution_count": 4,
   "metadata": {
    "colab": {
     "base_uri": "https://localhost:8080/",
     "height": 35
    },
    "executionInfo": {
     "elapsed": 413,
     "status": "ok",
     "timestamp": 1641968229064,
     "user": {
      "displayName": "Neeraj Joshi",
      "photoUrl": "https://lh3.googleusercontent.com/a-/AOh14Gj4mg3E02NReP-TLSoBthBtB0pl0ZRgvBYmVKGQsg=s64",
      "userId": "08836775123703418272"
     },
     "user_tz": -330
    },
    "id": "d-_S4inc7sRH",
    "outputId": "f698eb49-7f16-4275-a87d-7bb257c7d026"
   },
   "outputs": [
    {
     "data": {
      "application/vnd.google.colaboratory.intrinsic+json": {
       "type": "string"
      },
      "text/plain": [
       "'cuda'"
      ]
     },
     "execution_count": 4,
     "metadata": {},
     "output_type": "execute_result"
    }
   ],
   "source": [
    "device"
   ]
  },
  {
   "cell_type": "code",
   "execution_count": 5,
   "metadata": {
    "colab": {
     "base_uri": "https://localhost:8080/"
    },
    "executionInfo": {
     "elapsed": 10107,
     "status": "ok",
     "timestamp": 1641968329096,
     "user": {
      "displayName": "Neeraj Joshi",
      "photoUrl": "https://lh3.googleusercontent.com/a-/AOh14Gj4mg3E02NReP-TLSoBthBtB0pl0ZRgvBYmVKGQsg=s64",
      "userId": "08836775123703418272"
     },
     "user_tz": -330
    },
    "id": "9JIKXUgZ7tbJ",
    "outputId": "bd49691a-77d2-4344-fe10-3f13e4927057"
   },
   "outputs": [
    {
     "data": {
      "text/plain": [
       "tensor([1., 2., 4.], device='cuda:0', requires_grad=True)"
      ]
     },
     "execution_count": 5,
     "metadata": {},
     "output_type": "execute_result"
    }
   ],
   "source": [
    "torch.tensor([1,2,4],dtype=torch.float32 , device = device , requires_grad=True)"
   ]
  },
  {
   "cell_type": "code",
   "execution_count": 6,
   "metadata": {
    "colab": {
     "base_uri": "https://localhost:8080/"
    },
    "executionInfo": {
     "elapsed": 401,
     "status": "ok",
     "timestamp": 1641968351223,
     "user": {
      "displayName": "Neeraj Joshi",
      "photoUrl": "https://lh3.googleusercontent.com/a-/AOh14Gj4mg3E02NReP-TLSoBthBtB0pl0ZRgvBYmVKGQsg=s64",
      "userId": "08836775123703418272"
     },
     "user_tz": -330
    },
    "id": "4Vzh3N6C8DQR",
    "outputId": "895e3f29-2a6f-4454-b937-8df8679f87e0"
   },
   "outputs": [
    {
     "data": {
      "text/plain": [
       "tensor([[1., 1., 1., 1.],\n",
       "        [1., 1., 1., 1.],\n",
       "        [1., 1., 1., 1.]])"
      ]
     },
     "execution_count": 6,
     "metadata": {},
     "output_type": "execute_result"
    }
   ],
   "source": [
    "torch.ones(size=(3,4))"
   ]
  },
  {
   "cell_type": "code",
   "execution_count": 8,
   "metadata": {
    "colab": {
     "base_uri": "https://localhost:8080/"
    },
    "executionInfo": {
     "elapsed": 405,
     "status": "ok",
     "timestamp": 1641968375530,
     "user": {
      "displayName": "Neeraj Joshi",
      "photoUrl": "https://lh3.googleusercontent.com/a-/AOh14Gj4mg3E02NReP-TLSoBthBtB0pl0ZRgvBYmVKGQsg=s64",
      "userId": "08836775123703418272"
     },
     "user_tz": -330
    },
    "id": "Cn3HXFta8LQI",
    "outputId": "2b587ba8-32c9-4cb9-f963-af6accd82e95"
   },
   "outputs": [
    {
     "data": {
      "text/plain": [
       "tensor([ 0,  1,  2,  3,  4,  5,  6,  7,  8,  9, 10, 11, 12, 13, 14])"
      ]
     },
     "execution_count": 8,
     "metadata": {},
     "output_type": "execute_result"
    }
   ],
   "source": [
    "torch.arange(15)"
   ]
  },
  {
   "cell_type": "code",
   "execution_count": 10,
   "metadata": {
    "colab": {
     "base_uri": "https://localhost:8080/"
    },
    "executionInfo": {
     "elapsed": 676,
     "status": "ok",
     "timestamp": 1641968458832,
     "user": {
      "displayName": "Neeraj Joshi",
      "photoUrl": "https://lh3.googleusercontent.com/a-/AOh14Gj4mg3E02NReP-TLSoBthBtB0pl0ZRgvBYmVKGQsg=s64",
      "userId": "08836775123703418272"
     },
     "user_tz": -330
    },
    "id": "tyVvblQV8PF1",
    "outputId": "2b0bf83d-464c-4550-efc4-369009b76a72"
   },
   "outputs": [
    {
     "data": {
      "text/plain": [
       "tensor([ 1.0000,  1.1837,  1.3673,  1.5510,  1.7347,  1.9184,  2.1020,  2.2857,\n",
       "         2.4694,  2.6531,  2.8367,  3.0204,  3.2041,  3.3878,  3.5714,  3.7551,\n",
       "         3.9388,  4.1224,  4.3061,  4.4898,  4.6735,  4.8571,  5.0408,  5.2245,\n",
       "         5.4082,  5.5918,  5.7755,  5.9592,  6.1429,  6.3265,  6.5102,  6.6939,\n",
       "         6.8776,  7.0612,  7.2449,  7.4286,  7.6122,  7.7959,  7.9796,  8.1633,\n",
       "         8.3469,  8.5306,  8.7143,  8.8980,  9.0816,  9.2653,  9.4490,  9.6327,\n",
       "         9.8163, 10.0000])"
      ]
     },
     "execution_count": 10,
     "metadata": {},
     "output_type": "execute_result"
    }
   ],
   "source": [
    "torch.linspace(start=1,end=10,steps=50)"
   ]
  },
  {
   "cell_type": "code",
   "execution_count": 11,
   "metadata": {
    "colab": {
     "base_uri": "https://localhost:8080/"
    },
    "executionInfo": {
     "elapsed": 401,
     "status": "ok",
     "timestamp": 1641968476920,
     "user": {
      "displayName": "Neeraj Joshi",
      "photoUrl": "https://lh3.googleusercontent.com/a-/AOh14Gj4mg3E02NReP-TLSoBthBtB0pl0ZRgvBYmVKGQsg=s64",
      "userId": "08836775123703418272"
     },
     "user_tz": -330
    },
    "id": "N6oXA59X8bAh",
    "outputId": "5368302b-7227-4070-b5f8-a349d401d224"
   },
   "outputs": [
    {
     "data": {
      "text/plain": [
       "tensor([[ 0,  1,  2,  3,  4],\n",
       "        [ 5,  6,  7,  8,  9],\n",
       "        [10, 11, 12, 13, 14]])"
      ]
     },
     "execution_count": 11,
     "metadata": {},
     "output_type": "execute_result"
    }
   ],
   "source": [
    "torch.arange(15).view(3,5)"
   ]
  },
  {
   "cell_type": "code",
   "execution_count": 12,
   "metadata": {
    "colab": {
     "base_uri": "https://localhost:8080/"
    },
    "executionInfo": {
     "elapsed": 402,
     "status": "ok",
     "timestamp": 1641968501376,
     "user": {
      "displayName": "Neeraj Joshi",
      "photoUrl": "https://lh3.googleusercontent.com/a-/AOh14Gj4mg3E02NReP-TLSoBthBtB0pl0ZRgvBYmVKGQsg=s64",
      "userId": "08836775123703418272"
     },
     "user_tz": -330
    },
    "id": "DCTiSJiv8p3k",
    "outputId": "5cfbd648-765b-4e3a-a4a5-ee66decfcb2d"
   },
   "outputs": [
    {
     "data": {
      "text/plain": [
       "tensor([[[ 0,  1,  2,  3],\n",
       "         [ 4,  5,  6,  7],\n",
       "         [ 8,  9, 10, 11]],\n",
       "\n",
       "        [[12, 13, 14, 15],\n",
       "         [16, 17, 18, 19],\n",
       "         [20, 21, 22, 23]]])"
      ]
     },
     "execution_count": 12,
     "metadata": {},
     "output_type": "execute_result"
    }
   ],
   "source": [
    "torch.arange(24).view(2,3,4)"
   ]
  },
  {
   "cell_type": "code",
   "execution_count": 15,
   "metadata": {
    "colab": {
     "base_uri": "https://localhost:8080/"
    },
    "executionInfo": {
     "elapsed": 584,
     "status": "ok",
     "timestamp": 1641968785657,
     "user": {
      "displayName": "Neeraj Joshi",
      "photoUrl": "https://lh3.googleusercontent.com/a-/AOh14Gj4mg3E02NReP-TLSoBthBtB0pl0ZRgvBYmVKGQsg=s64",
      "userId": "08836775123703418272"
     },
     "user_tz": -330
    },
    "id": "GGTElrRI8v1N",
    "outputId": "978a7eac-abfd-471b-c2e0-a5d1e891dd95"
   },
   "outputs": [
    {
     "data": {
      "text/plain": [
       "tensor([[[ 0,  1,  2,  3],\n",
       "         [ 4,  5,  6,  7],\n",
       "         [ 8,  9, 10, 11]],\n",
       "\n",
       "        [[12, 13, 14, 15],\n",
       "         [16, 17, 18, 19],\n",
       "         [20, 21, 22, 23]]])"
      ]
     },
     "execution_count": 15,
     "metadata": {},
     "output_type": "execute_result"
    }
   ],
   "source": [
    "torch.arange(24).reshape(2,3,4)"
   ]
  },
  {
   "cell_type": "code",
   "execution_count": 17,
   "metadata": {
    "colab": {
     "base_uri": "https://localhost:8080/"
    },
    "executionInfo": {
     "elapsed": 428,
     "status": "ok",
     "timestamp": 1641968811010,
     "user": {
      "displayName": "Neeraj Joshi",
      "photoUrl": "https://lh3.googleusercontent.com/a-/AOh14Gj4mg3E02NReP-TLSoBthBtB0pl0ZRgvBYmVKGQsg=s64",
      "userId": "08836775123703418272"
     },
     "user_tz": -330
    },
    "id": "HEAFnoEk91hM",
    "outputId": "a2b653a6-636d-47c1-9220-d6e88ac4a8b3"
   },
   "outputs": [
    {
     "data": {
      "text/plain": [
       "torch.Size([5])"
      ]
     },
     "execution_count": 17,
     "metadata": {},
     "output_type": "execute_result"
    }
   ],
   "source": [
    "torch.tensor([1,2,3,4,5]).shape"
   ]
  },
  {
   "cell_type": "code",
   "execution_count": 7,
   "metadata": {
    "colab": {
     "base_uri": "https://localhost:8080/"
    },
    "executionInfo": {
     "elapsed": 388,
     "status": "ok",
     "timestamp": 1641968873376,
     "user": {
      "displayName": "Neeraj Joshi",
      "photoUrl": "https://lh3.googleusercontent.com/a-/AOh14Gj4mg3E02NReP-TLSoBthBtB0pl0ZRgvBYmVKGQsg=s64",
      "userId": "08836775123703418272"
     },
     "user_tz": -330
    },
    "id": "4t3MGE-Z97tK",
    "outputId": "ce1eccc8-9e74-4d1b-99f2-50bd6ccffa79"
   },
   "outputs": [
    {
     "data": {
      "text/plain": [
       "tensor([[1],\n",
       "        [2],\n",
       "        [3],\n",
       "        [4],\n",
       "        [5]])"
      ]
     },
     "execution_count": 7,
     "metadata": {},
     "output_type": "execute_result"
    }
   ],
   "source": [
    "torch.tensor([1,2,3,4,5]).unsqueeze(axis=1)"
   ]
  },
  {
   "cell_type": "code",
   "execution_count": 8,
   "metadata": {
    "colab": {
     "base_uri": "https://localhost:8080/"
    },
    "executionInfo": {
     "elapsed": 374,
     "status": "ok",
     "timestamp": 1641968891765,
     "user": {
      "displayName": "Neeraj Joshi",
      "photoUrl": "https://lh3.googleusercontent.com/a-/AOh14Gj4mg3E02NReP-TLSoBthBtB0pl0ZRgvBYmVKGQsg=s64",
      "userId": "08836775123703418272"
     },
     "user_tz": -330
    },
    "id": "dHXsoFor-Kzg",
    "outputId": "53bf7c0f-40bc-4e4e-94ce-d4241ed61241"
   },
   "outputs": [
    {
     "data": {
      "text/plain": [
       "tensor([1, 2, 3, 4, 5])"
      ]
     },
     "execution_count": 8,
     "metadata": {},
     "output_type": "execute_result"
    }
   ],
   "source": [
    "torch.tensor([1,2,3,4,5]).unsqueeze(axis=1).squeeze()"
   ]
  },
  {
   "cell_type": "markdown",
   "metadata": {
    "id": "oIdgdeWr9D9p"
   },
   "source": [
    "Tensor operations"
   ]
  },
  {
   "cell_type": "code",
   "execution_count": 21,
   "metadata": {
    "executionInfo": {
     "elapsed": 375,
     "status": "ok",
     "timestamp": 1641969533111,
     "user": {
      "displayName": "Neeraj Joshi",
      "photoUrl": "https://lh3.googleusercontent.com/a-/AOh14Gj4mg3E02NReP-TLSoBthBtB0pl0ZRgvBYmVKGQsg=s64",
      "userId": "08836775123703418272"
     },
     "user_tz": -330
    },
    "id": "9N3eKwcx-gUi"
   },
   "outputs": [],
   "source": [
    "x=torch.ones(size=(3,4))\n",
    "y=torch.ones(size=(3,4))*4"
   ]
  },
  {
   "cell_type": "code",
   "execution_count": 10,
   "metadata": {
    "colab": {
     "base_uri": "https://localhost:8080/"
    },
    "executionInfo": {
     "elapsed": 8,
     "status": "ok",
     "timestamp": 1641969534712,
     "user": {
      "displayName": "Neeraj Joshi",
      "photoUrl": "https://lh3.googleusercontent.com/a-/AOh14Gj4mg3E02NReP-TLSoBthBtB0pl0ZRgvBYmVKGQsg=s64",
      "userId": "08836775123703418272"
     },
     "user_tz": -330
    },
    "id": "F59NBTod9FxU",
    "outputId": "e18a126f-8755-4e23-d707-e4cf6994e5d3"
   },
   "outputs": [
    {
     "name": "stdout",
     "output_type": "stream",
     "text": [
      "tensor([[1., 1., 1., 1.],\n",
      "        [1., 1., 1., 1.],\n",
      "        [1., 1., 1., 1.]])\n",
      "tensor([[4., 4., 4., 4.],\n",
      "        [4., 4., 4., 4.],\n",
      "        [4., 4., 4., 4.]])\n"
     ]
    }
   ],
   "source": [
    "print(x)\n",
    "print(y)"
   ]
  },
  {
   "cell_type": "code",
   "execution_count": 13,
   "metadata": {
    "colab": {
     "base_uri": "https://localhost:8080/"
    },
    "executionInfo": {
     "elapsed": 415,
     "status": "ok",
     "timestamp": 1641969543845,
     "user": {
      "displayName": "Neeraj Joshi",
      "photoUrl": "https://lh3.googleusercontent.com/a-/AOh14Gj4mg3E02NReP-TLSoBthBtB0pl0ZRgvBYmVKGQsg=s64",
      "userId": "08836775123703418272"
     },
     "user_tz": -330
    },
    "id": "byqOu30j-iRZ",
    "outputId": "cb944a2c-6811-4fc9-fade-1c1380902afc"
   },
   "outputs": [
    {
     "data": {
      "text/plain": [
       "tensor([[5., 5., 5., 5.],\n",
       "        [5., 5., 5., 5.],\n",
       "        [5., 5., 5., 5.]])"
      ]
     },
     "execution_count": 13,
     "metadata": {},
     "output_type": "execute_result"
    }
   ],
   "source": [
    "z=torch.empty(size=(3,4))\n",
    "torch.add(x,y,out=z)\n",
    "z"
   ]
  },
  {
   "cell_type": "code",
   "execution_count": 40,
   "metadata": {
    "colab": {
     "base_uri": "https://localhost:8080/"
    },
    "executionInfo": {
     "elapsed": 393,
     "status": "ok",
     "timestamp": 1641969547403,
     "user": {
      "displayName": "Neeraj Joshi",
      "photoUrl": "https://lh3.googleusercontent.com/a-/AOh14Gj4mg3E02NReP-TLSoBthBtB0pl0ZRgvBYmVKGQsg=s64",
      "userId": "08836775123703418272"
     },
     "user_tz": -330
    },
    "id": "jrEYaGkn-ye3",
    "outputId": "421904b8-8366-4eb4-b12a-17c78c21c827"
   },
   "outputs": [
    {
     "data": {
      "text/plain": [
       "tensor([[5., 5., 5., 5.],\n",
       "        [5., 5., 5., 5.],\n",
       "        [5., 5., 5., 5.]])"
      ]
     },
     "execution_count": 40,
     "metadata": {},
     "output_type": "execute_result"
    }
   ],
   "source": [
    "z=torch.add(x,y)\n",
    "z"
   ]
  },
  {
   "cell_type": "code",
   "execution_count": 41,
   "metadata": {
    "colab": {
     "base_uri": "https://localhost:8080/"
    },
    "executionInfo": {
     "elapsed": 5,
     "status": "ok",
     "timestamp": 1641969550799,
     "user": {
      "displayName": "Neeraj Joshi",
      "photoUrl": "https://lh3.googleusercontent.com/a-/AOh14Gj4mg3E02NReP-TLSoBthBtB0pl0ZRgvBYmVKGQsg=s64",
      "userId": "08836775123703418272"
     },
     "user_tz": -330
    },
    "id": "L4aR0xNZ-zCt",
    "outputId": "ec855696-df7e-4c51-c524-174e4730c6b6"
   },
   "outputs": [
    {
     "data": {
      "text/plain": [
       "tensor([[5., 5., 5., 5.],\n",
       "        [5., 5., 5., 5.],\n",
       "        [5., 5., 5., 5.]])"
      ]
     },
     "execution_count": 41,
     "metadata": {},
     "output_type": "execute_result"
    }
   ],
   "source": [
    "z=x+y\n",
    "z"
   ]
  },
  {
   "cell_type": "code",
   "execution_count": 42,
   "metadata": {
    "colab": {
     "base_uri": "https://localhost:8080/"
    },
    "executionInfo": {
     "elapsed": 438,
     "status": "ok",
     "timestamp": 1641969553010,
     "user": {
      "displayName": "Neeraj Joshi",
      "photoUrl": "https://lh3.googleusercontent.com/a-/AOh14Gj4mg3E02NReP-TLSoBthBtB0pl0ZRgvBYmVKGQsg=s64",
      "userId": "08836775123703418272"
     },
     "user_tz": -330
    },
    "id": "H_kzrR7X-zdI",
    "outputId": "0a46fc05-8e41-4235-aa48-0b9f1d92c75f"
   },
   "outputs": [
    {
     "data": {
      "text/plain": [
       "tensor([[4., 4., 4., 4.],\n",
       "        [4., 4., 4., 4.],\n",
       "        [4., 4., 4., 4.]])"
      ]
     },
     "execution_count": 42,
     "metadata": {},
     "output_type": "execute_result"
    }
   ],
   "source": [
    "x*y"
   ]
  },
  {
   "cell_type": "code",
   "execution_count": 43,
   "metadata": {
    "colab": {
     "base_uri": "https://localhost:8080/"
    },
    "executionInfo": {
     "elapsed": 8,
     "status": "ok",
     "timestamp": 1641969556638,
     "user": {
      "displayName": "Neeraj Joshi",
      "photoUrl": "https://lh3.googleusercontent.com/a-/AOh14Gj4mg3E02NReP-TLSoBthBtB0pl0ZRgvBYmVKGQsg=s64",
      "userId": "08836775123703418272"
     },
     "user_tz": -330
    },
    "id": "R59FpfvGAqRG",
    "outputId": "67c817e0-af81-4537-bede-8c6b7bae133d"
   },
   "outputs": [
    {
     "data": {
      "text/plain": [
       "tensor([[4., 4., 4., 4.],\n",
       "        [4., 4., 4., 4.],\n",
       "        [4., 4., 4., 4.]])"
      ]
     },
     "execution_count": 43,
     "metadata": {},
     "output_type": "execute_result"
    }
   ],
   "source": [
    "torch.mul(x,y)"
   ]
  },
  {
   "cell_type": "code",
   "execution_count": 14,
   "metadata": {
    "executionInfo": {
     "elapsed": 518,
     "status": "ok",
     "timestamp": 1641969559773,
     "user": {
      "displayName": "Neeraj Joshi",
      "photoUrl": "https://lh3.googleusercontent.com/a-/AOh14Gj4mg3E02NReP-TLSoBthBtB0pl0ZRgvBYmVKGQsg=s64",
      "userId": "08836775123703418272"
     },
     "user_tz": -330
    },
    "id": "ySclSIYC-zz9"
   },
   "outputs": [],
   "source": [
    "y=torch.ones(size=(4,5))*4"
   ]
  },
  {
   "cell_type": "code",
   "execution_count": 15,
   "metadata": {},
   "outputs": [
    {
     "data": {
      "text/plain": [
       "tensor([[4., 4., 4., 4., 4.],\n",
       "        [4., 4., 4., 4., 4.],\n",
       "        [4., 4., 4., 4., 4.],\n",
       "        [4., 4., 4., 4., 4.]])"
      ]
     },
     "execution_count": 15,
     "metadata": {},
     "output_type": "execute_result"
    }
   ],
   "source": [
    "y"
   ]
  },
  {
   "cell_type": "code",
   "execution_count": 16,
   "metadata": {
    "colab": {
     "base_uri": "https://localhost:8080/"
    },
    "executionInfo": {
     "elapsed": 8,
     "status": "ok",
     "timestamp": 1641969561430,
     "user": {
      "displayName": "Neeraj Joshi",
      "photoUrl": "https://lh3.googleusercontent.com/a-/AOh14Gj4mg3E02NReP-TLSoBthBtB0pl0ZRgvBYmVKGQsg=s64",
      "userId": "08836775123703418272"
     },
     "user_tz": -330
    },
    "id": "zAPLdWzq_Qnd",
    "outputId": "a03b0ab6-4849-4b3b-fcf7-6a6bd3b686b5"
   },
   "outputs": [
    {
     "data": {
      "text/plain": [
       "tensor([[16., 16., 16., 16., 16.],\n",
       "        [16., 16., 16., 16., 16.],\n",
       "        [16., 16., 16., 16., 16.]])"
      ]
     },
     "execution_count": 16,
     "metadata": {},
     "output_type": "execute_result"
    }
   ],
   "source": [
    "torch.mm(x,y)"
   ]
  },
  {
   "cell_type": "code",
   "execution_count": 17,
   "metadata": {
    "colab": {
     "base_uri": "https://localhost:8080/"
    },
    "executionInfo": {
     "elapsed": 607,
     "status": "ok",
     "timestamp": 1641969563571,
     "user": {
      "displayName": "Neeraj Joshi",
      "photoUrl": "https://lh3.googleusercontent.com/a-/AOh14Gj4mg3E02NReP-TLSoBthBtB0pl0ZRgvBYmVKGQsg=s64",
      "userId": "08836775123703418272"
     },
     "user_tz": -330
    },
    "id": "7oGAl10v_cvt",
    "outputId": "1c1e0b38-9f24-41e1-a8bb-7aff3b52dffd"
   },
   "outputs": [
    {
     "data": {
      "text/plain": [
       "tensor([[16., 16., 16., 16., 16.],\n",
       "        [16., 16., 16., 16., 16.],\n",
       "        [16., 16., 16., 16., 16.]])"
      ]
     },
     "execution_count": 17,
     "metadata": {},
     "output_type": "execute_result"
    }
   ],
   "source": [
    "torch.matmul(x,y)"
   ]
  },
  {
   "cell_type": "code",
   "execution_count": 22,
   "metadata": {
    "executionInfo": {
     "elapsed": 365,
     "status": "ok",
     "timestamp": 1641969748242,
     "user": {
      "displayName": "Neeraj Joshi",
      "photoUrl": "https://lh3.googleusercontent.com/a-/AOh14Gj4mg3E02NReP-TLSoBthBtB0pl0ZRgvBYmVKGQsg=s64",
      "userId": "08836775123703418272"
     },
     "user_tz": -330
    },
    "id": "mjsvEKQcAUEI"
   },
   "outputs": [
    {
     "data": {
      "text/plain": [
       "tensor([[1., 1., 1., 1.],\n",
       "        [1., 1., 1., 1.],\n",
       "        [1., 1., 1., 1.]])"
      ]
     },
     "execution_count": 22,
     "metadata": {},
     "output_type": "execute_result"
    }
   ],
   "source": [
    "x"
   ]
  },
  {
   "cell_type": "code",
   "execution_count": 23,
   "metadata": {
    "executionInfo": {
     "elapsed": 7,
     "status": "ok",
     "timestamp": 1641969748624,
     "user": {
      "displayName": "Neeraj Joshi",
      "photoUrl": "https://lh3.googleusercontent.com/a-/AOh14Gj4mg3E02NReP-TLSoBthBtB0pl0ZRgvBYmVKGQsg=s64",
      "userId": "08836775123703418272"
     },
     "user_tz": -330
    },
    "id": "TbLu9_6SAnLu"
   },
   "outputs": [
    {
     "data": {
      "text/plain": [
       "tensor([[4., 4., 4., 4.],\n",
       "        [4., 4., 4., 4.],\n",
       "        [4., 4., 4., 4.]])"
      ]
     },
     "execution_count": 23,
     "metadata": {},
     "output_type": "execute_result"
    }
   ],
   "source": [
    "y"
   ]
  },
  {
   "cell_type": "code",
   "execution_count": 24,
   "metadata": {
    "executionInfo": {
     "elapsed": 7,
     "status": "ok",
     "timestamp": 1641969748626,
     "user": {
      "displayName": "Neeraj Joshi",
      "photoUrl": "https://lh3.googleusercontent.com/a-/AOh14Gj4mg3E02NReP-TLSoBthBtB0pl0ZRgvBYmVKGQsg=s64",
      "userId": "08836775123703418272"
     },
     "user_tz": -330
    },
    "id": "NIyP1s9pBVlx"
   },
   "outputs": [
    {
     "data": {
      "text/plain": [
       "tensor([[5., 5., 5., 5.],\n",
       "        [5., 5., 5., 5.],\n",
       "        [5., 5., 5., 5.]])"
      ]
     },
     "execution_count": 24,
     "metadata": {},
     "output_type": "execute_result"
    }
   ],
   "source": [
    "#x+=y\n",
    "x.add_(y)\n",
    "x"
   ]
  },
  {
   "cell_type": "code",
   "execution_count": null,
   "metadata": {
    "id": "ScKEdKZaBW5G"
   },
   "outputs": [],
   "source": []
  }
 ],
 "metadata": {
  "accelerator": "GPU",
  "colab": {
   "authorship_tag": "ABX9TyO0wgb6BbbTHewDFATUHVmE",
   "collapsed_sections": [],
   "name": "Lab 1 Basics of Tensor.ipynb",
   "provenance": []
  },
  "kernelspec": {
   "display_name": "Python 3 (ipykernel)",
   "language": "python",
   "name": "python3"
  },
  "language_info": {
   "codemirror_mode": {
    "name": "ipython",
    "version": 3
   },
   "file_extension": ".py",
   "mimetype": "text/x-python",
   "name": "python",
   "nbconvert_exporter": "python",
   "pygments_lexer": "ipython3",
   "version": "3.7.6"
  }
 },
 "nbformat": 4,
 "nbformat_minor": 1
}

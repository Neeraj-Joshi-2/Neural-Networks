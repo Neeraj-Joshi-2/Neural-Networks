{
  "nbformat": 4,
  "nbformat_minor": 0,
  "metadata": {
    "colab": {
      "name": "Regression with pytorch .ipynb",
      "provenance": [],
      "collapsed_sections": []
    },
    "kernelspec": {
      "name": "python3",
      "display_name": "Python 3"
    },
    "language_info": {
      "name": "python"
    }
  },
  "cells": [
    {
      "cell_type": "code",
      "execution_count": 1,
      "metadata": {
        "id": "ZxfzVLDD8pOk"
      },
      "outputs": [],
      "source": [
        "import torch\n",
        "import sklearn"
      ]
    },
    {
      "cell_type": "code",
      "source": [
        "from sklearn.datasets import make_classification\n",
        "torch.manual_seed(123)"
      ],
      "metadata": {
        "colab": {
          "base_uri": "https://localhost:8080/"
        },
        "id": "Ychf-Ig284wF",
        "outputId": "5f4f76e8-8322-40a3-e502-4156d03f1a87"
      },
      "execution_count": 2,
      "outputs": [
        {
          "output_type": "execute_result",
          "data": {
            "text/plain": [
              "<torch._C.Generator at 0x7fcc766abe90>"
            ]
          },
          "metadata": {},
          "execution_count": 2
        }
      ]
    },
    {
      "cell_type": "code",
      "source": [
        "## Make a Toy Dataset\n",
        "X,y=make_classification(n_samples=1000,n_features=4 ,n_classes=2)\n",
        "\n",
        "### Change it into the Tensor\n",
        "X=torch.tensor(X,dtype=torch.float32)\n",
        "y=torch.tensor(y,dtype=torch.float32)\n"
      ],
      "metadata": {
        "id": "1LxdPxns9Ax3"
      },
      "execution_count": 3,
      "outputs": []
    },
    {
      "cell_type": "code",
      "source": [
        "### Data Suffling\n",
        "torch.manual_seed(10)\n",
        "suffle_idx=torch.randperm(y.size(0),dtype=torch.long)\n",
        "X,y=X[suffle_idx],y[suffle_idx]\n",
        "suffle_idx[:10]"
      ],
      "metadata": {
        "colab": {
          "base_uri": "https://localhost:8080/"
        },
        "id": "iW3ACthE9UHy",
        "outputId": "73e6125f-031a-4ab3-d687-4727a1369ea9"
      },
      "execution_count": 4,
      "outputs": [
        {
          "output_type": "execute_result",
          "data": {
            "text/plain": [
              "tensor([937, 859, 548, 487, 148, 190, 199, 632,  33, 714])"
            ]
          },
          "metadata": {},
          "execution_count": 4
        }
      ]
    },
    {
      "cell_type": "code",
      "source": [
        "#### Train Test split\n",
        "train_size=int(suffle_idx.size(0)*0.7)\n",
        "train_idx= suffle_idx[:train_size]\n",
        "test_idx=suffle_idx[train_size:]\n",
        "X_train,y_train=X[train_idx],y[train_idx]\n",
        "X_test,y_test=X[test_idx],y[test_idx]"
      ],
      "metadata": {
        "id": "htyqar_O_gQS"
      },
      "execution_count": 5,
      "outputs": []
    },
    {
      "cell_type": "code",
      "source": [
        "X_train.shape"
      ],
      "metadata": {
        "colab": {
          "base_uri": "https://localhost:8080/"
        },
        "id": "y612znKOZBe1",
        "outputId": "b7ffd605-271a-46f8-e65f-24d5cf6ea747"
      },
      "execution_count": 6,
      "outputs": [
        {
          "output_type": "execute_result",
          "data": {
            "text/plain": [
              "torch.Size([700, 4])"
            ]
          },
          "metadata": {},
          "execution_count": 6
        }
      ]
    },
    {
      "cell_type": "code",
      "source": [
        "X_test.shape"
      ],
      "metadata": {
        "colab": {
          "base_uri": "https://localhost:8080/"
        },
        "id": "qph9HFKGZE5I",
        "outputId": "6e2037bb-bf7e-4efb-a415-3feea02617c7"
      },
      "execution_count": 7,
      "outputs": [
        {
          "output_type": "execute_result",
          "data": {
            "text/plain": [
              "torch.Size([300, 4])"
            ]
          },
          "metadata": {},
          "execution_count": 7
        }
      ]
    },
    {
      "cell_type": "code",
      "source": [
        "#### Normalize\n",
        "mean,std_dev=X_train.mean(dim=0) ,X_train.std(dim=0)\n",
        "X_train=(X_train-mean)/std_dev\n",
        "X_test=(X_test-mean)/std_dev"
      ],
      "metadata": {
        "id": "b6lDzsNjAD6Q"
      },
      "execution_count": 8,
      "outputs": []
    },
    {
      "cell_type": "code",
      "source": [
        "import torch.nn as nn\n",
        "from torch.autograd import grad"
      ],
      "metadata": {
        "id": "QDGeHX1VDcDG"
      },
      "execution_count": 9,
      "outputs": []
    },
    {
      "cell_type": "code",
      "source": [
        "class NN():\n",
        "  def __init__(self,n_features):\n",
        "    self.n_features=n_features\n",
        "    self.weight=torch.zeros(size=(n_features,1),dtype=torch.float,requires_grad=True)\n",
        "    self.bias=torch.zeros(1,dtype=torch.float,requires_grad=True)\n",
        "  \n",
        "\n",
        "  def forward(self,x):\n",
        "    output=torch.add(torch.mm(x,self.weight),self.bias)\n",
        "    return output.view(-1)\n",
        "\n",
        "def loss_fn(yhat,y):\n",
        "  return torch.mean((yhat-y)**2)\n"
      ],
      "metadata": {
        "id": "S5gFo5e-Dkon"
      },
      "execution_count": 10,
      "outputs": []
    },
    {
      "cell_type": "code",
      "source": [
        "def train(model,x,y,n_epoch=10,lr=0.001,seed=23,bsz=50):\n",
        "\n",
        "  cost=[]\n",
        "  torch.manual_seed(seed)\n",
        "  for i in range(n_epoch):\n",
        "    suffle_idx=torch.randperm(y.size(0))\n",
        "    batches=torch.split(suffle_idx,bsz)\n",
        "\n",
        "    for idx in batches:\n",
        "\n",
        "      ###1. Compute the output\n",
        "      yhat=model.forward(x[idx])\n",
        "\n",
        "      ###2. Compute the Error\n",
        "      loss=loss_fn(yhat,y[idx])\n",
        "\n",
        "      ###3. Compute the gradient\n",
        "      grad_w=grad(loss,model.weight,retain_graph=True)[0]\n",
        "      grad_b=grad(loss,model.bias)[0]\n",
        "\n",
        "      ###4. Update Model Parameters\n",
        "      model.weight=model.weight-lr*grad_w\n",
        "      model.bias=model.bias-lr*grad_b\n",
        "\n",
        "    ###5. Log and print the loss\n",
        "    with torch.no_grad():\n",
        "      yhat=model.forward(x)\n",
        "      curr_loss=loss_fn(yhat,y)\n",
        "      print('Epoc: %3d ' % (i+1),end=\"\")\n",
        "      print('| MSE % .5f' % curr_loss)\n",
        "      cost.append(curr_loss)\n",
        "      \n",
        "  return cost"
      ],
      "metadata": {
        "id": "W4VG658oG6Sk"
      },
      "execution_count": 11,
      "outputs": []
    },
    {
      "cell_type": "code",
      "source": [
        "model=NN(X_train.size(1))\n",
        "cost=train(model,X_train,y_train,n_epoch=50)"
      ],
      "metadata": {
        "colab": {
          "base_uri": "https://localhost:8080/"
        },
        "id": "pg5M3m31Fo39",
        "outputId": "cfa76754-8e6e-4fd2-a208-8d693bd971ab"
      },
      "execution_count": 12,
      "outputs": [
        {
          "output_type": "stream",
          "name": "stdout",
          "text": [
            "Epoc:   1 | MSE  0.46328\n",
            "Epoc:   2 | MSE  0.43601\n",
            "Epoc:   3 | MSE  0.41086\n",
            "Epoc:   4 | MSE  0.38763\n",
            "Epoc:   5 | MSE  0.36619\n",
            "Epoc:   6 | MSE  0.34636\n",
            "Epoc:   7 | MSE  0.32804\n",
            "Epoc:   8 | MSE  0.31109\n",
            "Epoc:   9 | MSE  0.29541\n",
            "Epoc:  10 | MSE  0.28088\n",
            "Epoc:  11 | MSE  0.26741\n",
            "Epoc:  12 | MSE  0.25492\n",
            "Epoc:  13 | MSE  0.24334\n",
            "Epoc:  14 | MSE  0.23259\n",
            "Epoc:  15 | MSE  0.22260\n",
            "Epoc:  16 | MSE  0.21333\n",
            "Epoc:  17 | MSE  0.20472\n",
            "Epoc:  18 | MSE  0.19670\n",
            "Epoc:  19 | MSE  0.18924\n",
            "Epoc:  20 | MSE  0.18229\n",
            "Epoc:  21 | MSE  0.17582\n",
            "Epoc:  22 | MSE  0.16980\n",
            "Epoc:  23 | MSE  0.16418\n",
            "Epoc:  24 | MSE  0.15894\n",
            "Epoc:  25 | MSE  0.15405\n",
            "Epoc:  26 | MSE  0.14949\n",
            "Epoc:  27 | MSE  0.14523\n",
            "Epoc:  28 | MSE  0.14125\n",
            "Epoc:  29 | MSE  0.13753\n",
            "Epoc:  30 | MSE  0.13406\n",
            "Epoc:  31 | MSE  0.13080\n",
            "Epoc:  32 | MSE  0.12776\n",
            "Epoc:  33 | MSE  0.12491\n",
            "Epoc:  34 | MSE  0.12225\n",
            "Epoc:  35 | MSE  0.11975\n",
            "Epoc:  36 | MSE  0.11742\n",
            "Epoc:  37 | MSE  0.11522\n",
            "Epoc:  38 | MSE  0.11317\n",
            "Epoc:  39 | MSE  0.11124\n",
            "Epoc:  40 | MSE  0.10943\n",
            "Epoc:  41 | MSE  0.10773\n",
            "Epoc:  42 | MSE  0.10614\n",
            "Epoc:  43 | MSE  0.10465\n",
            "Epoc:  44 | MSE  0.10325\n",
            "Epoc:  45 | MSE  0.10193\n",
            "Epoc:  46 | MSE  0.10069\n",
            "Epoc:  47 | MSE  0.09952\n",
            "Epoc:  48 | MSE  0.09843\n",
            "Epoc:  49 | MSE  0.09740\n",
            "Epoc:  50 | MSE  0.09644\n"
          ]
        }
      ]
    },
    {
      "cell_type": "code",
      "source": [
        "import matplotlib.pyplot as plt\n",
        "plt.plot(range(len(cost)),cost)\n",
        "plt.ylabel('Mean Sqare Error')\n",
        "plt.xlabel('Epoc')\n",
        "plt.show()"
      ],
      "metadata": {
        "colab": {
          "base_uri": "https://localhost:8080/",
          "height": 279
        },
        "id": "AUiMMWXeX2X6",
        "outputId": "9a3f5229-e1a3-493b-bd8c-4e15f8389d2c"
      },
      "execution_count": 13,
      "outputs": [
        {
          "output_type": "display_data",
          "data": {
            "text/plain": [
              "<Figure size 432x288 with 1 Axes>"
            ],
            "image/png": "[encoded data removed]"
          },
          "metadata": {
            "needs_background": "light"
          }
        }
      ]
    },
    {
      "cell_type": "code",
      "source": [
        "ones=torch.ones(y_train.size())\n",
        "zero=torch.zeros(y_train.size())\n",
        "train_pred=model.forward(X_train)\n",
        "train_acc=torch.mean((  \n",
        "    torch.where(train_pred > 0.5,\n",
        "                ones,zero).int()==y_train).float())\n",
        "\n",
        "\n",
        "ones=torch.ones(y_test.size())\n",
        "zeros=torch.zeros(y_test.size())\n",
        "test_pred=model.forward(X_test)\n",
        "test_acc=torch.mean((torch.where(test_pred> 0.5,ones,zeros).int()==y_test).float())\n",
        "\n",
        "print('Training Accuracy: %.2f' % (train_acc*100))\n",
        "print('Testing Accuracy: %.2f' % (test_acc*100))\n"
      ],
      "metadata": {
        "colab": {
          "base_uri": "https://localhost:8080/"
        },
        "id": "noMdRIQnY2yD",
        "outputId": "0136d59b-c3ff-46ef-e82f-1b75e2aa429d"
      },
      "execution_count": 14,
      "outputs": [
        {
          "output_type": "stream",
          "name": "stdout",
          "text": [
            "Training Accuracy: 91.71\n",
            "Testing Accuracy: 92.33\n"
          ]
        }
      ]
    },
    {
      "cell_type": "markdown",
      "source": [
        "### Model Using Pytorch"
      ],
      "metadata": {
        "id": "0jE4vxUqhE9S"
      }
    },
    {
      "cell_type": "code",
      "source": [
        "import torch\n",
        "import sklearn\n",
        "import torch.nn.functional as F"
      ],
      "metadata": {
        "id": "y3lKWHDh3Z2E"
      },
      "execution_count": null,
      "outputs": []
    },
    {
      "cell_type": "code",
      "source": [
        "from sklearn.datasets import make_classification\n",
        "from sklearn.model_selection import train_test_split\n",
        "from sklearn.preprocessing import StandardScaler"
      ],
      "metadata": {
        "id": "mIvsPBpi3exX"
      },
      "execution_count": null,
      "outputs": []
    },
    {
      "cell_type": "code",
      "source": [
        "### Create The dataset\n",
        "X,y=make_classification(n_samples=1000,n_classes=2,n_features=4)\n",
        "\n",
        "### Normalize the Data\n",
        "scaler=StandardScaler()\n",
        "X=scaler.fit_transform(X)\n",
        "\n",
        "### Array to Tensor\n",
        "X=torch.tensor(X,dtype=torch.float32)\n",
        "y=torch.tensor(y,dtype=torch.float32)"
      ],
      "metadata": {
        "id": "1JIHbj2035fP"
      },
      "execution_count": null,
      "outputs": []
    },
    {
      "cell_type": "code",
      "source": [
        ""
      ],
      "metadata": {
        "id": "CqWr2Ybd5ugi"
      },
      "execution_count": null,
      "outputs": []
    },
    {
      "cell_type": "code",
      "source": [
        "X_train,X_test,y_train,y_test=train_test_split(X,y,test_size=.3,random_state=21)\n",
        "print(X_train.shape)\n",
        "print(X_test.shape)"
      ],
      "metadata": {
        "colab": {
          "base_uri": "https://localhost:8080/"
        },
        "id": "vOTlEa224ok7",
        "outputId": "11b147ee-c3d0-4636-93e2-c63d54319a13"
      },
      "execution_count": null,
      "outputs": [
        {
          "output_type": "stream",
          "name": "stdout",
          "text": [
            "torch.Size([700, 4])\n",
            "torch.Size([300, 4])\n"
          ]
        }
      ]
    },
    {
      "cell_type": "code",
      "source": [
        ""
      ],
      "metadata": {
        "id": "vpJjGYOI6Qk7"
      },
      "execution_count": null,
      "outputs": []
    },
    {
      "cell_type": "code",
      "source": [
        "class NNpt(nn.Module):\n",
        "  def __init__(self,n_features):\n",
        "    super(NNpt,self).__init__()\n",
        "    self.linear=nn.Linear(n_features,1)\n",
        "\n",
        "    self.linear.weight.detach().zero_()\n",
        "    self.linear.bias.detach().zero_()\n",
        "\n",
        "\n",
        "  def forward(self,x):\n",
        "    out=self.linear(x)\n",
        "    return out.view(-1)\n",
        "\n",
        "\n",
        "\n",
        "    "
      ],
      "metadata": {
        "id": "DNSgj7UkhIIK"
      },
      "execution_count": null,
      "outputs": []
    },
    {
      "cell_type": "code",
      "source": [
        "def train(model,x,y,n_epoch=10,lr=0.001,seed=23,bsz=50):\n",
        "\n",
        "  cost=[]\n",
        "  torch.manual_seed(seed)\n",
        "   ### Optimizer\n",
        "  optimizer=torch.optim.SGD(model.parameters(),lr=lr)\n",
        "  for i in range(n_epoch):\n",
        "    suffle_idx=torch.randperm(y.size(0))\n",
        "    batches=torch.split(suffle_idx,bsz)\n",
        "\n",
        "    for idx in batches:\n",
        "      ###1. Compute the Output\n",
        "      yhat=model.forward(x[idx])\n",
        "\n",
        "      ###2. Compute the Loss\n",
        "      loss=torch.nn.functional.mse_loss(yhat,y[idx])\n",
        "\n",
        "      ###3. Compute the Gradients\n",
        "      optimizer.zero_grad()\n",
        "      loss.backward()\n",
        "\n",
        "      ###4. Update the Model Parameters\n",
        "      optimizer.step()\n",
        "\n",
        "      #model.weight=model.weight-lr*grad_w\n",
        "      #model.bias=model.bias-lr*grad_b\n",
        "\n",
        "    ###5. Log and print the Loss\n",
        "    with torch.no_grad():\n",
        "      yhat=model.forward(x)\n",
        "      curr_loss=loss_fn(yhat,y)\n",
        "      print('Epoc: %3d ' % (i+1),end=\"\")\n",
        "      print('| MSE % .5f' % curr_loss)\n",
        "      cost.append(curr_loss)\n",
        "      \n",
        "  return cost"
      ],
      "metadata": {
        "id": "HQNqqR33nsLH"
      },
      "execution_count": null,
      "outputs": []
    },
    {
      "cell_type": "code",
      "source": [
        "n_feature=X_train.size(1)\n",
        "model=NNpt(n_features=n_feature)\n"
      ],
      "metadata": {
        "id": "sPFjue7WlmW-"
      },
      "execution_count": null,
      "outputs": []
    },
    {
      "cell_type": "code",
      "source": [
        "cost=train(model,X_train,y_train,n_epoch=50)"
      ],
      "metadata": {
        "colab": {
          "base_uri": "https://localhost:8080/"
        },
        "id": "li9AFeIanQZS",
        "outputId": "7c05f8aa-1dff-4596-8114-baad1ca7a4c3"
      },
      "execution_count": null,
      "outputs": [
        {
          "output_type": "stream",
          "name": "stdout",
          "text": [
            "Epoc:   1 | MSE  0.49435\n",
            "Epoc:   2 | MSE  0.47153\n",
            "Epoc:   3 | MSE  0.45005\n",
            "Epoc:   4 | MSE  0.42983\n",
            "Epoc:   5 | MSE  0.41079\n",
            "Epoc:   6 | MSE  0.39286\n",
            "Epoc:   7 | MSE  0.37598\n",
            "Epoc:   8 | MSE  0.36008\n",
            "Epoc:   9 | MSE  0.34511\n",
            "Epoc:  10 | MSE  0.33101\n",
            "Epoc:  11 | MSE  0.31772\n",
            "Epoc:  12 | MSE  0.30520\n",
            "Epoc:  13 | MSE  0.29342\n",
            "Epoc:  14 | MSE  0.28232\n",
            "Epoc:  15 | MSE  0.27186\n",
            "Epoc:  16 | MSE  0.26201\n",
            "Epoc:  17 | MSE  0.25274\n",
            "Epoc:  18 | MSE  0.24400\n",
            "Epoc:  19 | MSE  0.23576\n",
            "Epoc:  20 | MSE  0.22801\n",
            "Epoc:  21 | MSE  0.22070\n",
            "Epoc:  22 | MSE  0.21382\n",
            "Epoc:  23 | MSE  0.20733\n",
            "Epoc:  24 | MSE  0.20123\n",
            "Epoc:  25 | MSE  0.19547\n",
            "Epoc:  26 | MSE  0.19004\n",
            "Epoc:  27 | MSE  0.18493\n",
            "Epoc:  28 | MSE  0.18012\n",
            "Epoc:  29 | MSE  0.17558\n",
            "Epoc:  30 | MSE  0.17131\n",
            "Epoc:  31 | MSE  0.16728\n",
            "Epoc:  32 | MSE  0.16348\n",
            "Epoc:  33 | MSE  0.15990\n",
            "Epoc:  34 | MSE  0.15653\n",
            "Epoc:  35 | MSE  0.15336\n",
            "Epoc:  36 | MSE  0.15037\n",
            "Epoc:  37 | MSE  0.14755\n",
            "Epoc:  38 | MSE  0.14489\n",
            "Epoc:  39 | MSE  0.14238\n",
            "Epoc:  40 | MSE  0.14002\n",
            "Epoc:  41 | MSE  0.13780\n",
            "Epoc:  42 | MSE  0.13571\n",
            "Epoc:  43 | MSE  0.13373\n",
            "Epoc:  44 | MSE  0.13187\n",
            "Epoc:  45 | MSE  0.13012\n",
            "Epoc:  46 | MSE  0.12847\n",
            "Epoc:  47 | MSE  0.12691\n",
            "Epoc:  48 | MSE  0.12544\n",
            "Epoc:  49 | MSE  0.12406\n",
            "Epoc:  50 | MSE  0.12275\n"
          ]
        }
      ]
    },
    {
      "cell_type": "code",
      "source": [
        "plt.plot(range(len(cost)),cost)\n",
        "plt.xlabel('No of Epochs')\n",
        "plt.ylabel('Mean Squared Error')\n",
        "plt.plot()"
      ],
      "metadata": {
        "colab": {
          "base_uri": "https://localhost:8080/",
          "height": 296
        },
        "id": "U7FElcjK6m8I",
        "outputId": "6592dab1-02f2-46c8-c40b-9ec2af79dae1"
      },
      "execution_count": null,
      "outputs": [
        {
          "output_type": "execute_result",
          "data": {
            "text/plain": [
              "[]"
            ]
          },
          "metadata": {},
          "execution_count": 25
        },
        {
          "output_type": "display_data",
          "data": {
            "image/png": "[encoded data removed]",
            "text/plain": [
              "<Figure size 432x288 with 1 Axes>"
            ]
          },
          "metadata": {
            "needs_background": "light"
          }
        }
      ]
    },
    {
      "cell_type": "code",
      "source": [
        "ones=torch.ones(y_train.size(0))\n",
        "zero=torch.zeros(y_train.size(0))\n",
        "train_pred=model.forward(X_train)\n",
        "\n",
        "train_acc=torch.mean((torch.where( train_pred >0.5 , ones,zero).int()==y_train).float())\n",
        "#print(train_acc)\n",
        "\n",
        "ones=torch.ones(y_test.size(0))\n",
        "zero=torch.zeros(y_test.size(0))\n",
        "test_pred=model.forward(X_test)\n",
        "\n",
        "test_acc=torch.mean((torch.where( test_pred >0.5 , ones,zero).int()==y_test).float())\n",
        "print('Training Accuracy : %.2f' % train_acc)\n",
        "print('Testing Accuracy: %.2f' % test_acc)"
      ],
      "metadata": {
        "colab": {
          "base_uri": "https://localhost:8080/"
        },
        "id": "gb4XmG8W7UjJ",
        "outputId": "fc61b2d6-39fb-4e89-e33e-581b44ec2d8f"
      },
      "execution_count": null,
      "outputs": [
        {
          "output_type": "stream",
          "name": "stdout",
          "text": [
            "Training Accuracy : 0.90\n",
            "Testing Accuracy: 0.92\n"
          ]
        }
      ]
    },
    {
      "cell_type": "markdown",
      "source": [
        "### Logistic Regression"
      ],
      "metadata": {
        "id": "Jw4-SmjGAwKw"
      }
    },
    {
      "cell_type": "code",
      "source": [
        "def train(model,x,y,n_epoch=10,lr=0.001,seed=23,bsz=50):\n",
        "\n",
        "  cost=[]\n",
        "  torch.manual_seed(seed)\n",
        "   ### Optimizer\n",
        "  optimizer=torch.optim.SGD(model.parameters(),lr=lr)\n",
        "  for i in range(n_epoch):\n",
        "    suffle_idx=torch.randperm(y.size(0))\n",
        "    batches=torch.split(suffle_idx,bsz)\n",
        "\n",
        "    for idx in batches:\n",
        "      ###1. Compute the Output\n",
        "      yhat=model.forward(x[idx])\n",
        "\n",
        "      ###2. Compute the Loss\n",
        "      loss=torch.nn.functional.binary_cross_entropy(torch.sigmoid(yhat),y[idx])\n",
        "\n",
        "      ###3. Compute the Gradients\n",
        "      optimizer.zero_grad()\n",
        "      loss.backward()\n",
        "\n",
        "      ###4. Update the Model Parameters\n",
        "      optimizer.step()\n",
        "\n",
        "      #model.weight=model.weight-lr*grad_w\n",
        "      #model.bias=model.bias-lr*grad_b\n",
        "\n",
        "    ###5. Log and print the Loss\n",
        "    with torch.no_grad():\n",
        "      yhat=model.forward(x)\n",
        "      curr_loss=loss_fn(yhat,y)\n",
        "      print('Epoc: %3d ' % (i+1),end=\"\")\n",
        "      print('| MSE % .5f' % curr_loss)\n",
        "      cost.append(curr_loss)\n",
        "      \n",
        "  return cost"
      ],
      "metadata": {
        "id": "fOvf9DILA0Vt"
      },
      "execution_count": null,
      "outputs": []
    },
    {
      "cell_type": "code",
      "source": [
        "n_feature=X_train.size(1)\n",
        "model=NNpt(n_features=n_feature)\n"
      ],
      "metadata": {
        "id": "PIUIMhifBawi"
      },
      "execution_count": null,
      "outputs": []
    },
    {
      "cell_type": "code",
      "source": [
        "cost=train(model,X_train,y_train,n_epoch=50)"
      ],
      "metadata": {
        "colab": {
          "base_uri": "https://localhost:8080/"
        },
        "id": "0C-2cXsdBdVJ",
        "outputId": "1cb469a2-87de-40fc-ed40-986682dbda32"
      },
      "execution_count": null,
      "outputs": [
        {
          "output_type": "stream",
          "name": "stdout",
          "text": [
            "Epoc:   1 | MSE  0.51359\n",
            "Epoc:   2 | MSE  0.50871\n",
            "Epoc:   3 | MSE  0.50391\n",
            "Epoc:   4 | MSE  0.49920\n",
            "Epoc:   5 | MSE  0.49458\n",
            "Epoc:   6 | MSE  0.49005\n",
            "Epoc:   7 | MSE  0.48560\n",
            "Epoc:   8 | MSE  0.48124\n",
            "Epoc:   9 | MSE  0.47697\n",
            "Epoc:  10 | MSE  0.47277\n",
            "Epoc:  11 | MSE  0.46867\n",
            "Epoc:  12 | MSE  0.46464\n",
            "Epoc:  13 | MSE  0.46069\n",
            "Epoc:  14 | MSE  0.45683\n",
            "Epoc:  15 | MSE  0.45304\n",
            "Epoc:  16 | MSE  0.44933\n",
            "Epoc:  17 | MSE  0.44571\n",
            "Epoc:  18 | MSE  0.44216\n",
            "Epoc:  19 | MSE  0.43868\n",
            "Epoc:  20 | MSE  0.43528\n",
            "Epoc:  21 | MSE  0.43196\n",
            "Epoc:  22 | MSE  0.42871\n",
            "Epoc:  23 | MSE  0.42553\n",
            "Epoc:  24 | MSE  0.42243\n",
            "Epoc:  25 | MSE  0.41939\n",
            "Epoc:  26 | MSE  0.41643\n",
            "Epoc:  27 | MSE  0.41354\n",
            "Epoc:  28 | MSE  0.41072\n",
            "Epoc:  29 | MSE  0.40797\n",
            "Epoc:  30 | MSE  0.40528\n",
            "Epoc:  31 | MSE  0.40266\n",
            "Epoc:  32 | MSE  0.40011\n",
            "Epoc:  33 | MSE  0.39763\n",
            "Epoc:  34 | MSE  0.39521\n",
            "Epoc:  35 | MSE  0.39286\n",
            "Epoc:  36 | MSE  0.39057\n",
            "Epoc:  37 | MSE  0.38834\n",
            "Epoc:  38 | MSE  0.38618\n",
            "Epoc:  39 | MSE  0.38407\n",
            "Epoc:  40 | MSE  0.38203\n",
            "Epoc:  41 | MSE  0.38005\n",
            "Epoc:  42 | MSE  0.37814\n",
            "Epoc:  43 | MSE  0.37628\n",
            "Epoc:  44 | MSE  0.37447\n",
            "Epoc:  45 | MSE  0.37273\n",
            "Epoc:  46 | MSE  0.37105\n",
            "Epoc:  47 | MSE  0.36942\n",
            "Epoc:  48 | MSE  0.36785\n",
            "Epoc:  49 | MSE  0.36633\n",
            "Epoc:  50 | MSE  0.36487\n"
          ]
        }
      ]
    },
    {
      "cell_type": "code",
      "source": [
        "plt.plot(range(len(cost)),cost)\n",
        "plt.xlabel('No of Epochs')\n",
        "plt.ylabel('Mean Squared Error')\n",
        "plt.plot()"
      ],
      "metadata": {
        "colab": {
          "base_uri": "https://localhost:8080/",
          "height": 299
        },
        "id": "Poh0lJYHBzdN",
        "outputId": "555ea510-ca3f-4bee-f2fe-0b351f1c4fc9"
      },
      "execution_count": null,
      "outputs": [
        {
          "output_type": "execute_result",
          "data": {
            "text/plain": [
              "[]"
            ]
          },
          "metadata": {},
          "execution_count": 47
        },
        {
          "output_type": "display_data",
          "data": {
            "image/png": "[encoded data removed]",
            "text/plain": [
              "<Figure size 432x288 with 1 Axes>"
            ]
          },
          "metadata": {
            "needs_background": "light"
          }
        }
      ]
    },
    {
      "cell_type": "code",
      "source": [
        "ones=torch.ones(y_train.size(0))\n",
        "zero=torch.zeros(y_train.size(0))\n",
        "train_pred=model.forward(X_train)\n",
        "\n",
        "train_acc=torch.mean((torch.where( train_pred >0.5 , ones,zero).int()==y_train).float())\n",
        "#print(train_acc)\n",
        "\n",
        "ones=torch.ones(y_test.size(0))\n",
        "zero=torch.zeros(y_test.size(0))\n",
        "test_pred=model.forward(X_test)\n",
        "\n",
        "test_acc=torch.mean((torch.where( test_pred >0.5 , ones,zero).int()==y_test).float())\n",
        "print('Training Accuracy : %.2f' % train_acc)\n",
        "print('Testing Accuracy: %.2f' % test_acc)"
      ],
      "metadata": {
        "colab": {
          "base_uri": "https://localhost:8080/"
        },
        "id": "AwaMm8VzCmgc",
        "outputId": "2a062e5d-c6a8-4a09-e16a-b969015c0d19"
      },
      "execution_count": null,
      "outputs": [
        {
          "output_type": "stream",
          "name": "stdout",
          "text": [
            "Training Accuracy : 0.51\n",
            "Testing Accuracy: 0.57\n"
          ]
        }
      ]
    },
    {
      "cell_type": "code",
      "source": [
        ""
      ],
      "metadata": {
        "id": "A8RpExgxC_Ys"
      },
      "execution_count": null,
      "outputs": []
    }
  ]
}
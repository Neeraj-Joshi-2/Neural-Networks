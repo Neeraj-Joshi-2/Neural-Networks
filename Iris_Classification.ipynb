{
 "cells": [
  {
   "cell_type": "code",
   "execution_count": 60,
   "metadata": {
    "id": "0PwkorRGJ3SL"
   },
   "outputs": [],
   "source": [
    "import torch\n",
    "import sklearn\n",
    "from sklearn.datasets import load_iris\n",
    "import matplotlib.pyplot as plt\n",
    "from sklearn.metrics import accuracy_score"
   ]
  },
  {
   "cell_type": "code",
   "execution_count": 61,
   "metadata": {
    "colab": {
     "base_uri": "https://localhost:8080/"
    },
    "id": "qz9wJ73YKIgU",
    "outputId": "0d471c25-5f3b-4f66-ec58-13e6b35dc4ed"
   },
   "outputs": [
    {
     "name": "stdout",
     "output_type": "stream",
     "text": [
      "Features\n",
      "\n"
     ]
    },
    {
     "data": {
      "text/plain": [
       "array([[5.1, 3.5, 1.4, 0.2],\n",
       "       [4.9, 3. , 1.4, 0.2],\n",
       "       [4.7, 3.2, 1.3, 0.2],\n",
       "       [4.6, 3.1, 1.5, 0.2],\n",
       "       [5. , 3.6, 1.4, 0.2],\n",
       "       [5.4, 3.9, 1.7, 0.4],\n",
       "       [4.6, 3.4, 1.4, 0.3],\n",
       "       [5. , 3.4, 1.5, 0.2],\n",
       "       [4.4, 2.9, 1.4, 0.2],\n",
       "       [4.9, 3.1, 1.5, 0.1]])"
      ]
     },
     "execution_count": 61,
     "metadata": {},
     "output_type": "execute_result"
    }
   ],
   "source": [
    "iris = load_iris()\n",
    "print(\"Features\\n\")\n",
    "iris.data[0 : 10]"
   ]
  },
  {
   "cell_type": "code",
   "execution_count": 62,
   "metadata": {
    "colab": {
     "base_uri": "https://localhost:8080/"
    },
    "id": "r5Soq1WZKhPb",
    "outputId": "6012d344-666c-479b-a3e4-90210311b11e"
   },
   "outputs": [
    {
     "data": {
      "text/plain": [
       "array(['setosa', 'versicolor', 'virginica'], dtype='<U10')"
      ]
     },
     "execution_count": 62,
     "metadata": {},
     "output_type": "execute_result"
    }
   ],
   "source": [
    "iris.target_names"
   ]
  },
  {
   "cell_type": "code",
   "execution_count": 63,
   "metadata": {
    "id": "7-VdPxkJKrmt"
   },
   "outputs": [],
   "source": [
    "X=iris.data\n",
    "y=iris.target"
   ]
  },
  {
   "cell_type": "code",
   "execution_count": 64,
   "metadata": {
    "colab": {
     "base_uri": "https://localhost:8080/"
    },
    "id": "IG83qR3mLcFY",
    "outputId": "b2845a27-a489-4e31-ff9c-be168e2b1978"
   },
   "outputs": [
    {
     "name": "stdout",
     "output_type": "stream",
     "text": [
      "Scaled data\n",
      "\n",
      "[[-0.90068117  1.01900435 -1.34022653 -1.3154443 ]\n",
      " [-1.14301691 -0.13197948 -1.34022653 -1.3154443 ]\n",
      " [-1.38535265  0.32841405 -1.39706395 -1.3154443 ]\n",
      " [-1.50652052  0.09821729 -1.2833891  -1.3154443 ]\n",
      " [-1.02184904  1.24920112 -1.34022653 -1.3154443 ]\n",
      " [-0.53717756  1.93979142 -1.16971425 -1.05217993]\n",
      " [-1.50652052  0.78880759 -1.34022653 -1.18381211]\n",
      " [-1.02184904  0.78880759 -1.2833891  -1.3154443 ]\n",
      " [-1.74885626 -0.36217625 -1.34022653 -1.3154443 ]\n",
      " [-1.14301691  0.09821729 -1.2833891  -1.44707648]]\n"
     ]
    }
   ],
   "source": [
    "from sklearn.preprocessing import StandardScaler\n",
    "scaler=StandardScaler()\n",
    "X=scaler.fit_transform(X)\n",
    "print(\"Scaled data\\n\")\n",
    "print(X[0:10])"
   ]
  },
  {
   "cell_type": "code",
   "execution_count": 65,
   "metadata": {
    "colab": {
     "base_uri": "https://localhost:8080/"
    },
    "id": "QxqNGoiuO2NL",
    "outputId": "65495f82-576c-4dd0-a682-7d957bd8a56e"
   },
   "outputs": [
    {
     "data": {
      "text/plain": [
       "tensor([[-0.9007,  1.0190, -1.3402, -1.3154],\n",
       "        [-1.1430, -0.1320, -1.3402, -1.3154],\n",
       "        [-1.3854,  0.3284, -1.3971, -1.3154],\n",
       "        [-1.5065,  0.0982, -1.2834, -1.3154],\n",
       "        [-1.0218,  1.2492, -1.3402, -1.3154],\n",
       "        [-0.5372,  1.9398, -1.1697, -1.0522],\n",
       "        [-1.5065,  0.7888, -1.3402, -1.1838],\n",
       "        [-1.0218,  0.7888, -1.2834, -1.3154],\n",
       "        [-1.7489, -0.3622, -1.3402, -1.3154],\n",
       "        [-1.1430,  0.0982, -1.2834, -1.4471]])"
      ]
     },
     "execution_count": 65,
     "metadata": {},
     "output_type": "execute_result"
    }
   ],
   "source": [
    "X=torch.tensor(X,dtype=torch.float32)\n",
    "y=torch.tensor(y,dtype=torch.float32)\n",
    "X[0:10]"
   ]
  },
  {
   "cell_type": "code",
   "execution_count": 66,
   "metadata": {
    "colab": {
     "base_uri": "https://localhost:8080/"
    },
    "id": "QOhjseQ5NUMI",
    "outputId": "c6023b15-aab0-42d5-8522-52de254c4bee"
   },
   "outputs": [
    {
     "name": "stdout",
     "output_type": "stream",
     "text": [
      "torch.Size([120, 4])\n",
      "torch.Size([120])\n",
      "torch.Size([30, 4])\n",
      "torch.Size([30])\n"
     ]
    }
   ],
   "source": [
    "from sklearn.model_selection import train_test_split\n",
    "Xtrain, Xtest, ytrain, ytest=train_test_split(X,y,test_size=0.2,random_state=32)\n",
    "print(Xtrain.size())\n",
    "print(ytrain.size())\n",
    "print(Xtest.size())\n",
    "print(ytest.size())"
   ]
  },
  {
   "cell_type": "code",
   "execution_count": 67,
   "metadata": {
    "id": "wGuMjN7jPW0q"
   },
   "outputs": [],
   "source": [
    "import torch.nn as nn\n",
    "import torch.nn.functional as F"
   ]
  },
  {
   "cell_type": "code",
   "execution_count": 68,
   "metadata": {
    "id": "jti4EZanPe3G"
   },
   "outputs": [],
   "source": [
    "class Model(nn.Module) :\n",
    "  \n",
    "  def __init__(self , n_features , n_L1) :\n",
    "    super(Model,self).__init__()\n",
    "    self.hiddenLayer=nn.Linear(n_features,n_L1)\n",
    "    self.outptLayer=nn.Linear(n_L1,3)\n",
    "    self.softmax=nn.Softmax(dim=1)\n",
    "\n",
    "  def forward(self, data) :\n",
    "    outputHiddenLayer=F.relu(self.hiddenLayer(data))\n",
    "    outputOutputLayer=F.relu(self.outptLayer(outputHiddenLayer))\n",
    "    output=self.softmax(outputOutputLayer)\n",
    "    return output\n"
   ]
  },
  {
   "cell_type": "code",
   "execution_count": 69,
   "metadata": {
    "id": "S7xTkEtVVPLa"
   },
   "outputs": [],
   "source": [
    "def train(model, X_Train, y_Train, epocs, batchSize=20, seed=20) :\n",
    "  \n",
    "  cost=[]\n",
    "  torch.manual_seed(seed)\n",
    "  optimizer=torch.optim.SGD(model.parameters(),lr=0.1)\n",
    "  loss_fn = nn.CrossEntropyLoss()\n",
    "\n",
    "  for epoch in range(epocs) :\n",
    "\n",
    "    suffle_idx=torch.randperm(y_Train.size(0))\n",
    "    batches =torch.split(suffle_idx,batchSize)\n",
    "\n",
    "    for idx in batches :\n",
    "\n",
    "      pred = model.forward(X_Train[idx])\n",
    "      loss = loss_fn(pred,y_Train[idx].long())\n",
    "\n",
    "      optimizer.zero_grad()\n",
    "      loss.backward()\n",
    "\n",
    "      optimizer.step()\n",
    "\n",
    "    with torch.no_grad():\n",
    "      pred = model.forward(X_Train)\n",
    "      loss = loss_fn(pred,y_Train.long())\n",
    "      print('Epoc:%3d ' % epoch,end=\"\")\n",
    "      print('BCE %.2f' % loss)\n",
    "      cost.append(loss)\n",
    "\n",
    "  return cost\n"
   ]
  },
  {
   "cell_type": "code",
   "execution_count": 70,
   "metadata": {
    "colab": {
     "base_uri": "https://localhost:8080/"
    },
    "id": "W4lLIjs5VTq3",
    "outputId": "07fb80ad-8f55-4262-be51-c857c3a07d51"
   },
   "outputs": [
    {
     "name": "stdout",
     "output_type": "stream",
     "text": [
      "Epoc:  0 BCE 1.11\n",
      "Epoc:  1 BCE 1.10\n",
      "Epoc:  2 BCE 1.08\n",
      "Epoc:  3 BCE 1.06\n",
      "Epoc:  4 BCE 1.04\n",
      "Epoc:  5 BCE 1.02\n",
      "Epoc:  6 BCE 0.99\n",
      "Epoc:  7 BCE 0.97\n",
      "Epoc:  8 BCE 0.95\n",
      "Epoc:  9 BCE 0.92\n",
      "Epoc: 10 BCE 0.91\n",
      "Epoc: 11 BCE 0.89\n",
      "Epoc: 12 BCE 0.87\n",
      "Epoc: 13 BCE 0.86\n",
      "Epoc: 14 BCE 0.85\n",
      "Epoc: 15 BCE 0.84\n",
      "Epoc: 16 BCE 0.83\n",
      "Epoc: 17 BCE 0.83\n",
      "Epoc: 18 BCE 0.82\n",
      "Epoc: 19 BCE 0.81\n",
      "Epoc: 20 BCE 0.81\n",
      "Epoc: 21 BCE 0.80\n",
      "Epoc: 22 BCE 0.80\n",
      "Epoc: 23 BCE 0.79\n",
      "Epoc: 24 BCE 0.78\n",
      "Epoc: 25 BCE 0.78\n",
      "Epoc: 26 BCE 0.77\n",
      "Epoc: 27 BCE 0.77\n",
      "Epoc: 28 BCE 0.76\n",
      "Epoc: 29 BCE 0.76\n"
     ]
    }
   ],
   "source": [
    "model = Model(Xtrain.size(1) , 10)\n",
    "cost = train(model, Xtrain, ytrain, epocs = 30)"
   ]
  },
  {
   "cell_type": "code",
   "execution_count": 71,
   "metadata": {
    "colab": {
     "base_uri": "https://localhost:8080/",
     "height": 279
    },
    "id": "yIjqHfxhVWRj",
    "outputId": "d16c35b2-62f5-487a-cfdb-ab3c6a118038"
   },
   "outputs": [
    {
     "data": {
      "image/png": "[encoded data removed]",
      "text/plain": [
       "<Figure size 432x288 with 1 Axes>"
      ]
     },
     "metadata": {
      "needs_background": "light"
     },
     "output_type": "display_data"
    }
   ],
   "source": [
    "plt.plot(range(len(cost)),cost)\n",
    "plt.ylabel('Binary Cross Entropy')\n",
    "plt.xlabel('Epoc')\n",
    "plt.show()"
   ]
  },
  {
   "cell_type": "code",
   "execution_count": 72,
   "metadata": {
    "colab": {
     "base_uri": "https://localhost:8080/"
    },
    "id": "f3_dCVnCtYIw",
    "outputId": "981d99ee-63b3-47c4-e347-c8a0c8d179c2"
   },
   "outputs": [
    {
     "name": "stdout",
     "output_type": "stream",
     "text": [
      "Training Accuracy: 0.87\n",
      "Testing Accuracy: 0.87\n"
     ]
    }
   ],
   "source": [
    "with torch.no_grad():\n",
    "  predTrain = model.forward(Xtrain)\n",
    "  accTrain = (torch.argmax(predTrain,dim=1)==ytrain).float().mean()\n",
    "  print('Training Accuracy: %.2f' %accTrain)\n",
    "\n",
    "  predTest = model.forward(Xtest)\n",
    "  accTest = (torch.argmax(predTest,dim=1)==ytest).float().mean()\n",
    "  print('Testing Accuracy: %.2f' %accTest)"
   ]
  },
  {
   "cell_type": "code",
   "execution_count": 73,
   "metadata": {
    "colab": {
     "base_uri": "https://localhost:8080/"
    },
    "id": "8Q0_U3pktgel",
    "outputId": "01b6e959-c402-4421-c733-c08bfc47df78"
   },
   "outputs": [
    {
     "data": {
      "text/plain": [
       "tensor([1., 0., 0., 2., 1., 0., 0., 2., 2., 1., 0., 2., 0., 2., 0., 2., 1., 1.,\n",
       "        1., 0., 1., 1., 0., 2., 1., 0., 0., 0., 0., 1., 2., 2., 1., 1., 2., 2.,\n",
       "        0., 2., 0., 0., 2., 0., 2., 0., 2., 0., 1., 0., 0., 1., 1., 2., 0., 1.,\n",
       "        0., 1., 0., 2., 1., 1., 2., 1., 0., 1., 2., 2., 1., 2., 0., 2., 2., 2.,\n",
       "        0., 2., 1., 2., 1., 2., 1., 1., 1., 0., 2., 2., 1., 1., 2., 0., 2., 1.,\n",
       "        2., 2., 1., 1., 0., 1., 2., 2., 1., 0., 1., 2., 2., 1., 0., 0., 0., 1.,\n",
       "        2., 2., 0., 0., 0., 1., 1., 1., 2., 1., 2., 0.])"
      ]
     },
     "execution_count": 73,
     "metadata": {},
     "output_type": "execute_result"
    }
   ],
   "source": [
    "ytrain"
   ]
  },
  {
   "cell_type": "code",
   "execution_count": 72,
   "metadata": {
    "id": "DmhCrVebtjW-"
   },
   "outputs": [],
   "source": []
  },
  {
   "cell_type": "code",
   "execution_count": 72,
   "metadata": {
    "id": "8df9q9a4tlf8"
   },
   "outputs": [],
   "source": []
  }
 ],
 "metadata": {
  "colab": {
   "collapsed_sections": [],
   "name": "Iris_Classification.ipynb",
   "provenance": []
  },
  "kernelspec": {
   "display_name": "Python 3",
   "language": "python",
   "name": "python3"
  },
  "language_info": {
   "codemirror_mode": {
    "name": "ipython",
    "version": 3
   },
   "file_extension": ".py",
   "mimetype": "text/x-python",
   "name": "python",
   "nbconvert_exporter": "python",
   "pygments_lexer": "ipython3",
   "version": "3.7.6"
  }
 },
 "nbformat": 4,
 "nbformat_minor": 1
}

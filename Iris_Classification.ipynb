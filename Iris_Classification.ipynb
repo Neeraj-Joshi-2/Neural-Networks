{
  "nbformat": 4,
  "nbformat_minor": 0,
  "metadata": {
    "colab": {
      "name": "Iris_Classification.ipynb",
      "provenance": [],
      "collapsed_sections": []
    },
    "kernelspec": {
      "name": "python3",
      "display_name": "Python 3"
    },
    "language_info": {
      "name": "python"
    }
  },
  "cells": [
    {
      "cell_type": "code",
      "execution_count": null,
      "metadata": {
        "id": "0PwkorRGJ3SL"
      },
      "outputs": [],
      "source": [
        "import torch\n",
        "import sklearn\n",
        "from sklearn.datasets import load_iris\n",
        "import matplotlib.pyplot as plt\n",
        "from sklearn.metrics import accuracy_score"
      ]
    },
    {
      "cell_type": "markdown",
      "source": [
        "**Loading Data**"
      ],
      "metadata": {
        "id": "tVLnTY3OPzyN"
      }
    },
    {
      "cell_type": "code",
      "source": [
        "iris = load_iris()\n",
        "print(\"Features\\n\")\n",
        "iris.data[0 : 10]"
      ],
      "metadata": {
        "colab": {
          "base_uri": "https://localhost:8080/"
        },
        "id": "qz9wJ73YKIgU",
        "outputId": "e0b6cb27-a97d-4db3-dca4-8d00b54237f6"
      },
      "execution_count": null,
      "outputs": [
        {
          "output_type": "stream",
          "name": "stdout",
          "text": [
            "Features\n",
            "\n"
          ]
        },
        {
          "output_type": "execute_result",
          "data": {
            "text/plain": [
              "array([[5.1, 3.5, 1.4, 0.2],\n",
              "       [4.9, 3. , 1.4, 0.2],\n",
              "       [4.7, 3.2, 1.3, 0.2],\n",
              "       [4.6, 3.1, 1.5, 0.2],\n",
              "       [5. , 3.6, 1.4, 0.2],\n",
              "       [5.4, 3.9, 1.7, 0.4],\n",
              "       [4.6, 3.4, 1.4, 0.3],\n",
              "       [5. , 3.4, 1.5, 0.2],\n",
              "       [4.4, 2.9, 1.4, 0.2],\n",
              "       [4.9, 3.1, 1.5, 0.1]])"
            ]
          },
          "metadata": {},
          "execution_count": 26
        }
      ]
    },
    {
      "cell_type": "code",
      "source": [
        "iris.target_names"
      ],
      "metadata": {
        "colab": {
          "base_uri": "https://localhost:8080/"
        },
        "id": "r5Soq1WZKhPb",
        "outputId": "94c5a211-ff7f-4bdb-9a8e-ad78f7638a87"
      },
      "execution_count": null,
      "outputs": [
        {
          "output_type": "execute_result",
          "data": {
            "text/plain": [
              "array(['setosa', 'versicolor', 'virginica'], dtype='<U10')"
            ]
          },
          "metadata": {},
          "execution_count": 27
        }
      ]
    },
    {
      "cell_type": "code",
      "source": [
        "X=iris.data\n",
        "y=iris.target"
      ],
      "metadata": {
        "id": "7-VdPxkJKrmt"
      },
      "execution_count": null,
      "outputs": []
    },
    {
      "cell_type": "markdown",
      "source": [
        "**Standardization**"
      ],
      "metadata": {
        "id": "UThdBVWGP_O7"
      }
    },
    {
      "cell_type": "code",
      "source": [
        "from sklearn.preprocessing import StandardScaler\n",
        "scaler=StandardScaler()\n",
        "X=scaler.fit_transform(X)\n",
        "print(\"Scaled data\\n\")\n",
        "print(X[0:10])"
      ],
      "metadata": {
        "colab": {
          "base_uri": "https://localhost:8080/"
        },
        "id": "IG83qR3mLcFY",
        "outputId": "794b2b90-3f25-4724-87d9-0254b25fa968"
      },
      "execution_count": null,
      "outputs": [
        {
          "output_type": "stream",
          "name": "stdout",
          "text": [
            "Scaled data\n",
            "\n",
            "[[-0.90068117  1.01900435 -1.34022653 -1.3154443 ]\n",
            " [-1.14301691 -0.13197948 -1.34022653 -1.3154443 ]\n",
            " [-1.38535265  0.32841405 -1.39706395 -1.3154443 ]\n",
            " [-1.50652052  0.09821729 -1.2833891  -1.3154443 ]\n",
            " [-1.02184904  1.24920112 -1.34022653 -1.3154443 ]\n",
            " [-0.53717756  1.93979142 -1.16971425 -1.05217993]\n",
            " [-1.50652052  0.78880759 -1.34022653 -1.18381211]\n",
            " [-1.02184904  0.78880759 -1.2833891  -1.3154443 ]\n",
            " [-1.74885626 -0.36217625 -1.34022653 -1.3154443 ]\n",
            " [-1.14301691  0.09821729 -1.2833891  -1.44707648]]\n"
          ]
        }
      ]
    },
    {
      "cell_type": "markdown",
      "source": [
        "**Converting to tensor**"
      ],
      "metadata": {
        "id": "so5CrPYgQsbU"
      }
    },
    {
      "cell_type": "code",
      "source": [
        "X=torch.tensor(X,dtype=torch.float32)\n",
        "y=torch.tensor(y,dtype=torch.float32)\n",
        "X[0:10]"
      ],
      "metadata": {
        "colab": {
          "base_uri": "https://localhost:8080/"
        },
        "id": "QxqNGoiuO2NL",
        "outputId": "0202cfc4-1e28-4bd1-9626-09b5aa92bb3e"
      },
      "execution_count": null,
      "outputs": [
        {
          "output_type": "execute_result",
          "data": {
            "text/plain": [
              "tensor([[-0.9007,  1.0190, -1.3402, -1.3154],\n",
              "        [-1.1430, -0.1320, -1.3402, -1.3154],\n",
              "        [-1.3854,  0.3284, -1.3971, -1.3154],\n",
              "        [-1.5065,  0.0982, -1.2834, -1.3154],\n",
              "        [-1.0218,  1.2492, -1.3402, -1.3154],\n",
              "        [-0.5372,  1.9398, -1.1697, -1.0522],\n",
              "        [-1.5065,  0.7888, -1.3402, -1.1838],\n",
              "        [-1.0218,  0.7888, -1.2834, -1.3154],\n",
              "        [-1.7489, -0.3622, -1.3402, -1.3154],\n",
              "        [-1.1430,  0.0982, -1.2834, -1.4471]])"
            ]
          },
          "metadata": {},
          "execution_count": 30
        }
      ]
    },
    {
      "cell_type": "markdown",
      "source": [
        "**Splitting the data**"
      ],
      "metadata": {
        "id": "BYwNoON2QNBU"
      }
    },
    {
      "cell_type": "code",
      "source": [
        "from sklearn.model_selection import train_test_split\n",
        "Xtrain, Xtest, ytrain, ytest=train_test_split(X,y,test_size=0.2,random_state=32)\n",
        "print(Xtrain.size())\n",
        "print(ytrain.size())\n",
        "print(Xtest.size())\n",
        "print(ytest.size())"
      ],
      "metadata": {
        "colab": {
          "base_uri": "https://localhost:8080/"
        },
        "id": "QOhjseQ5NUMI",
        "outputId": "d23274da-ad82-43f5-d9ae-7b7050a4b5fe"
      },
      "execution_count": null,
      "outputs": [
        {
          "output_type": "stream",
          "name": "stdout",
          "text": [
            "torch.Size([120, 4])\n",
            "torch.Size([120])\n",
            "torch.Size([30, 4])\n",
            "torch.Size([30])\n"
          ]
        }
      ]
    },
    {
      "cell_type": "markdown",
      "source": [
        "**Creating the model**"
      ],
      "metadata": {
        "id": "m7qRzhNjQ1Ob"
      }
    },
    {
      "cell_type": "code",
      "source": [
        "import torch.nn as nn\n",
        "import torch.nn.functional as F"
      ],
      "metadata": {
        "id": "wGuMjN7jPW0q"
      },
      "execution_count": null,
      "outputs": []
    },
    {
      "cell_type": "code",
      "source": [
        "class Model(nn.Module) :\n",
        "  \n",
        "  def __init__(self , n_features , n_L1) :\n",
        "    super(Model,self).__init__()\n",
        "    self.hiddenLayer=nn.Linear(n_features,n_L1)\n",
        "    self.outptLayer=nn.Linear(n_L1,3)\n",
        "    self.softmax=nn.Softmax(dim=1)\n",
        "\n",
        "  def forward(self, data) :\n",
        "    outputHiddenLayer=F.relu(self.hiddenLayer(data))\n",
        "    output=self.softmax(self.outptLayer(outputHiddenLayer))\n",
        "    return output\n"
      ],
      "metadata": {
        "id": "jti4EZanPe3G"
      },
      "execution_count": null,
      "outputs": []
    },
    {
      "cell_type": "markdown",
      "source": [
        "**Function to train the model**"
      ],
      "metadata": {
        "id": "6gJ_Xpid02N5"
      }
    },
    {
      "cell_type": "code",
      "source": [
        "def train(model, X_Train, y_Train, epocs, batchSize=20, seed=20) :\n",
        "  \n",
        "  cost=[]\n",
        "  torch.manual_seed(seed)\n",
        "  optimizer=torch.optim.SGD(model.parameters(),lr=0.1)\n",
        "  loss_fn = nn.CrossEntropyLoss()\n",
        "\n",
        "  for epoch in range(epocs) :\n",
        "\n",
        "    suffle_idx=torch.randperm(y_Train.size(0))\n",
        "    batches =torch.split(suffle_idx,batchSize)\n",
        "\n",
        "    for idx in batches :\n",
        "\n",
        "      pred = model.forward(X_Train[idx])\n",
        "      loss = loss_fn(pred,y_Train[idx].long())\n",
        "\n",
        "      optimizer.zero_grad()\n",
        "      loss.backward()\n",
        "\n",
        "      optimizer.step()\n",
        "\n",
        "    with torch.no_grad():\n",
        "      pred = model.forward(X_Train)\n",
        "      loss = loss_fn(pred,y_Train.long())\n",
        "      print('Epoc:%3d ' % epoch,end=\"\")\n",
        "      print('BCE %.2f' % loss)\n",
        "      cost.append(loss)\n",
        "\n",
        "  return cost\n"
      ],
      "metadata": {
        "id": "S7xTkEtVVPLa"
      },
      "execution_count": null,
      "outputs": []
    },
    {
      "cell_type": "code",
      "source": [
        "model = Model(Xtrain.size(1) , 10)\n",
        "cost = train(model, Xtrain, ytrain, epocs = 30)"
      ],
      "metadata": {
        "id": "W4lLIjs5VTq3",
        "colab": {
          "base_uri": "https://localhost:8080/"
        },
        "outputId": "e4d55dac-c918-43ff-bc2f-3d5a90ae1021"
      },
      "execution_count": null,
      "outputs": [
        {
          "output_type": "stream",
          "name": "stdout",
          "text": [
            "Epoc:  0 BCE 1.07\n",
            "Epoc:  1 BCE 1.05\n",
            "Epoc:  2 BCE 1.02\n",
            "Epoc:  3 BCE 1.00\n",
            "Epoc:  4 BCE 0.97\n",
            "Epoc:  5 BCE 0.95\n",
            "Epoc:  6 BCE 0.93\n",
            "Epoc:  7 BCE 0.91\n",
            "Epoc:  8 BCE 0.89\n",
            "Epoc:  9 BCE 0.88\n",
            "Epoc: 10 BCE 0.86\n",
            "Epoc: 11 BCE 0.85\n",
            "Epoc: 12 BCE 0.84\n",
            "Epoc: 13 BCE 0.83\n",
            "Epoc: 14 BCE 0.82\n",
            "Epoc: 15 BCE 0.81\n",
            "Epoc: 16 BCE 0.80\n",
            "Epoc: 17 BCE 0.80\n",
            "Epoc: 18 BCE 0.79\n",
            "Epoc: 19 BCE 0.78\n",
            "Epoc: 20 BCE 0.78\n",
            "Epoc: 21 BCE 0.77\n",
            "Epoc: 22 BCE 0.76\n",
            "Epoc: 23 BCE 0.76\n",
            "Epoc: 24 BCE 0.75\n",
            "Epoc: 25 BCE 0.75\n",
            "Epoc: 26 BCE 0.74\n",
            "Epoc: 27 BCE 0.74\n",
            "Epoc: 28 BCE 0.73\n",
            "Epoc: 29 BCE 0.73\n"
          ]
        }
      ]
    },
    {
      "cell_type": "code",
      "source": [
        "plt.plot(range(len(cost)),cost)\n",
        "plt.ylabel('Binary Cross Entropy')\n",
        "plt.xlabel('Epoc')\n",
        "plt.show()"
      ],
      "metadata": {
        "id": "yIjqHfxhVWRj",
        "colab": {
          "base_uri": "https://localhost:8080/",
          "height": 279
        },
        "outputId": "50b47e6c-0853-4bf5-edff-043cceea9110"
      },
      "execution_count": null,
      "outputs": [
        {
          "output_type": "display_data",
          "data": {
            "image/png": "[encoded data removed]",
            "text/plain": [
              "<Figure size 432x288 with 1 Axes>"
            ]
          },
          "metadata": {
            "needs_background": "light"
          }
        }
      ]
    },
    {
      "cell_type": "code",
      "source": [
        "with torch.no_grad():\n",
        "  predTrain = model.forward(Xtrain)\n",
        "  accTrain = (torch.argmax(predTrain,dim=1)==ytrain).float().mean()\n",
        "  print('Training Accuracy: %.2f' %accTrain)\n",
        "\n",
        "  predTest = model.forward(Xtest)\n",
        "  accTest = (torch.argmax(predTest,dim=1)==ytest).float().mean()\n",
        "  print('Testing Accuracy: %.2f' %accTest)"
      ],
      "metadata": {
        "colab": {
          "base_uri": "https://localhost:8080/"
        },
        "id": "f3_dCVnCtYIw",
        "outputId": "4ad70285-8622-4ee9-a245-1171afc6b9be"
      },
      "execution_count": null,
      "outputs": [
        {
          "output_type": "stream",
          "name": "stdout",
          "text": [
            "Training Accuracy: 0.91\n",
            "Testing Accuracy: 0.87\n"
          ]
        }
      ]
    },
    {
      "cell_type": "code",
      "source": [
        "ytrain"
      ],
      "metadata": {
        "id": "8Q0_U3pktgel",
        "colab": {
          "base_uri": "https://localhost:8080/"
        },
        "outputId": "0d4041f7-4322-4572-afaa-dd259139dd10"
      },
      "execution_count": null,
      "outputs": [
        {
          "output_type": "execute_result",
          "data": {
            "text/plain": [
              "tensor([1., 0., 0., 2., 1., 0., 0., 2., 2., 1., 0., 2., 0., 2., 0., 2., 1., 1.,\n",
              "        1., 0., 1., 1., 0., 2., 1., 0., 0., 0., 0., 1., 2., 2., 1., 1., 2., 2.,\n",
              "        0., 2., 0., 0., 2., 0., 2., 0., 2., 0., 1., 0., 0., 1., 1., 2., 0., 1.,\n",
              "        0., 1., 0., 2., 1., 1., 2., 1., 0., 1., 2., 2., 1., 2., 0., 2., 2., 2.,\n",
              "        0., 2., 1., 2., 1., 2., 1., 1., 1., 0., 2., 2., 1., 1., 2., 0., 2., 1.,\n",
              "        2., 2., 1., 1., 0., 1., 2., 2., 1., 0., 1., 2., 2., 1., 0., 0., 0., 1.,\n",
              "        2., 2., 0., 0., 0., 1., 1., 1., 2., 1., 2., 0.])"
            ]
          },
          "metadata": {},
          "execution_count": 38
        }
      ]
    }
  ]
}